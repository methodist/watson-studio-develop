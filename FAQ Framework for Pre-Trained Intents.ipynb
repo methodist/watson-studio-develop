{
    "nbformat_minor": 2, 
    "cells": [
        {
            "source": "# \u6a5f\u80fd/\u76ee\u7684\n## - \u5b66\u7fd2\u6e08\u307f\u30a4\u30f3\u30c6\u30f3\u30c8\u3092\u5229\u7528\u3057\u3066\u30c1\u30e3\u30c3\u30c8\u30dc\u30c3\u30c8\u3092\u81ea\u52d5\u69cb\u6210\u3059\u308b", 
            "cell_type": "markdown", 
            "metadata": {}
        }, 
        {
            "source": "## 0 \u524d\u63d0\u4f5c\u696d\n\n\n### 1) Watson SDK\u306e\u5c0e\u5165", 
            "cell_type": "markdown", 
            "metadata": {}
        }, 
        {
            "execution_count": null, 
            "cell_type": "code", 
            "metadata": {}, 
            "outputs": [], 
            "source": "!pip install --upgrade \"watson-developer-cloud>=1.3.0\" "
        }, 
        {
            "source": "### 2) \u30af\u30ea\u30c7\u30f3\u30b7\u30e3\u30eb\u60c5\u5831\u306e\u30bb\u30c3\u30c8", 
            "cell_type": "markdown", 
            "metadata": {}
        }, 
        {
            "execution_count": null, 
            "cell_type": "code", 
            "metadata": {}, 
            "outputs": [], 
            "source": "# -*- coding: utf-8 -*-\nimport json\nimport re\nimport watson_developer_cloud\n\nassistant = watson_developer_cloud.AssistantV1(\n    username='',\n    password='',\n    version= '2018-02-16'\n)"
        }, 
        {
            "source": "### 3) workspace\u4f5c\u6210", 
            "cell_type": "markdown", 
            "metadata": {}
        }, 
        {
            "execution_count": null, 
            "cell_type": "code", 
            "metadata": {}, 
            "outputs": [], 
            "source": "workspace = assistant.create_workspace(\n    language = \"ja\",\n    name= \"\u30c0\u30a4\u30a2\u30ed\u30b0\u81ea\u52d5\u751f\u6210\u30c7\u30e2\",\n    description ='2018/4/24\u7248 \u5b66\u7fd2\u6e08\u307f\u30a4\u30f3\u30c6\u30f3\u30c8\u3001\u30b7\u30b9\u30c6\u30e0\u30a8\u30f3\u30c6\u30a3\u30c6\u30a3\u3001\u30d5\u30a9\u30eb\u30c0\u3001\u8131\u7dda',\n    entities = [\n        { 'entity' : \"sys-date\" },\n        { 'entity' : \"sys-time\" },\n        { 'entity' : \"sys-currency\" },\n        { 'entity' : \"sys-percentage\" },\n        { 'entity' : \"sys-number\" }\n    ]\n)\n\nworkspaceid = workspace[\"workspace_id\"]"
        }, 
        {
            "source": "## 1 workspace\u3092\u958b\u3044\u3066\u5b66\u7fd2\u6e08\u307f\u30a4\u30f3\u30c6\u30f3\u30c8\u3092\u30a4\u30f3\u30dd\u30fc\u30c8\u3059\u308b\n\n- \u5b66\u7fd2\u6e08\u307f\u30a4\u30f3\u30c6\u30f3\u30c8\n    - \u4e00\u822c\u3068e-\u30b3\u30de\u30fc\u30b9\u306e\u30a4\u30f3\u30c6\u30f3\u30c8\u3092\u53d6\u308a\u8fbc\u3080", 
            "cell_type": "markdown", 
            "metadata": {}
        }, 
        {
            "source": "## 2 \u521d\u671f\u30ce\u30fc\u30c9\u4f5c\u6210 (welcome, anything_else)", 
            "cell_type": "markdown", 
            "metadata": {}
        }, 
        {
            "execution_count": null, 
            "cell_type": "code", 
            "metadata": {}, 
            "outputs": [], 
            "source": "mynode = assistant.create_dialog_node(\n    workspace_id = workspaceid,\n    title = \"\u3088\u3046\u3053\u305d\",\n    conditions = \"welcome\",\n    output = {'text':\"\u3053\u3093\u306b\u3061\u306f\u3001\u30ef\u30c8\u30bd\u30f3\u3067\u3059\"},\n    dialog_node = \"start\"\n)\nmynode = assistant.create_dialog_node(\n    workspace_id = workspaceid,\n    title = \"\u305d\u306e\u4ed6\",\n    conditions = \"anything_else\",\n    output = {'text':\"\u89e3\u91c8\u3067\u304d\u307e\u305b\u3093\"},\n    dialog_node = \"end\",\n    previous_sibling = \"start\"\n)"
        }, 
        {
            "source": "## 3 \u30d5\u30a9\u30eb\u30c0\u4f5c\u6210 for Pre-Trained Intents", 
            "cell_type": "markdown", 
            "metadata": {}
        }, 
        {
            "execution_count": null, 
            "cell_type": "code", 
            "metadata": {}, 
            "outputs": [], 
            "source": "response = assistant.list_intents(\n    workspace_id = workspaceid\n)\n\n#\u30d5\u30a9\u30eb\u30c0\u540d\u306e\u751f\u6210\nmyintent = \"\"\nmyintents = []\nfor index, intent in enumerate(response[\"intents\"]):\n    index = intent[\"intent\"].find('_')\n    if (intent[\"intent\"][:index] != myintent):\n        myintent = intent[\"intent\"][:index]\n        myintents.append(myintent)\n\n#\u30d5\u30a9\u30eb\u30c0\u306e\u4f5c\u6210\nfor fname in myintents:\n    assistant.create_dialog_node(\n        workspace_id = workspaceid,\n        title = fname,\n        conditions = \"true\",\n        dialog_node = fname,\n        node_type = \"folder\",\n        digress_in = \"returns\",\n        previous_sibling = \"start\"\n    )\n    print (\"Creating folder ... \", fname)"
        }, 
        {
            "source": "## 4 \u5b66\u7fd2\u6e08\u307f\u30a4\u30f3\u30c6\u30f3\u30c8\u7528\u30c0\u30a4\u30a2\u30ed\u30b0\u30ce\u30fc\u30c9\u306e\u4f5c\u6210", 
            "cell_type": "markdown", 
            "metadata": {}
        }, 
        {
            "execution_count": null, 
            "cell_type": "code", 
            "metadata": {}, 
            "outputs": [], 
            "source": "for fname in myintents:\n    for index, intent in enumerate(response[\"intents\"]):\n        nodename = intent[\"intent\"]\n        if nodename.find(fname) > -1:\n            myparent = fname\n            assistant.create_dialog_node(\n                workspace_id = workspaceid,\n                dialog_node = nodename,\n                conditions = '#' + nodename,\n                output = { 'text': \"\u307e\u3060\u5b66\u7fd2\u3057\u3066\u3044\u307e\u305b\u3093\"},\n                title = intent[\"description\"],\n                parent = myparent\n            )\n        print (\"Creating node ... \", nodename)"
        }, 
        {
            "source": "## 5 \u30b8\u30e7\u30fc\u30af\u5bfe\u5fdc", 
            "cell_type": "markdown", 
            "metadata": {}
        }, 
        {
            "execution_count": null, 
            "cell_type": "code", 
            "metadata": {}, 
            "outputs": [], 
            "source": "response = assistant.update_dialog_node(\n    workspace_id = workspaceid,\n    dialog_node = 'General_Greetings',\n    new_output = {\n        'text': '\u50d5\u306fWatson Studio\u304b\u3089\u81ea\u52d5\u751f\u6210\u3055\u308c\u305f\u30dc\u30c3\u30c8\u3060\u3088'\n    }\n)\n\nresponse = assistant.update_dialog_node(\n    workspace_id = workspaceid,\n    dialog_node = 'General_Jokes',\n    new_output = {\n        'text': '\u307e\u3060\u30b8\u30e7\u30fc\u30af\u306f\u5b66\u7fd2\u3057\u3066\u3044\u306a\u3044\u3093\u3067\u3059\u3088'\n    }\n)"
        }, 
        {
            "source": "## 6 \u8cfc\u5165\u5bfe\u5fdc", 
            "cell_type": "markdown", 
            "metadata": {}
        }, 
        {
            "execution_count": null, 
            "cell_type": "code", 
            "metadata": {}, 
            "outputs": [], 
            "source": "response = assistant.update_dialog_node(\n    workspace_id = workspaceid,\n    dialog_node = 'eCommerce_Create_Product_Order',\n    new_output = {\n        'text': '\u5728\u5eab\u304c\u3042\u308b\u306e\u3067\u304a\u6301\u3061\u5e30\u308a\u3067\u304d\u307e\u3059\u3088'\n    }\n)"
        }, 
        {
            "source": "## 7 \u8fd4\u54c1\u5bfe\u5fdc", 
            "cell_type": "markdown", 
            "metadata": {}
        }, 
        {
            "execution_count": null, 
            "cell_type": "code", 
            "metadata": {}, 
            "outputs": [], 
            "source": "response = assistant.update_dialog_node(\n    workspace_id = workspaceid,\n    dialog_node = 'eCommerce_Cancel_Product_Order',\n    new_output = {\n        'text': '\u3044\u3064\u8cfc\u5165\u3057\u307e\u3057\u305f\u304b'\n    }\n)\nresponse = assistant.create_dialog_node(\n    workspace_id = workspaceid,\n    dialog_node = 'eCommerce_Check_Create_Product_Order',\n    parent = 'eCommerce_Cancel_Product_Order',\n    conditions = '@sys-date',\n    output = {},\n    #digress_out = 'allow_all',\n    title = '\u8cfc\u5165\u65e5\u306e\u78ba\u8a8d'\n)\nresponse = assistant.create_dialog_node(\n    workspace_id = workspaceid,\n    dialog_node = 'eCommerce_Check_Create_Product_Order_1',\n    parent = 'eCommerce_Check_Create_Product_Order',\n    node_type = 'response_condition',\n    conditions = \"@sys-date.after('2018-04-07')\",\n    output = {\n        'text': '\u672a\u4f7f\u7528\u3067\u3042\u308c\u3070\u8fd4\u5374\u3067\u304d\u307e\u3059'\n    }\n)\nresponse = assistant.create_dialog_node(\n    workspace_id = workspaceid,\n    dialog_node = 'eCommerce_Check_Create_Product_Order_2',\n    parent = 'eCommerce_Check_Create_Product_Order',\n    node_type = 'response_condition',\n    output = {\n        'text': '\u6b8b\u5ff5\u306a\u304c\u3089\u8fd4\u5374\u3067\u304d\u307e\u305b\u3093'\n    },\n    previous_sibling = 'eCommerce_Check_Create_Product_Order_1'\n)"
        }, 
        {
            "source": "## [\u6ce8\u610f] \u5168\u30ce\u30fc\u30c9\u306e\u524a\u9664\n- \u5fc5\u8981\u306a\u5834\u5408\u306b\u306e\u307f\u5b9f\u884c", 
            "cell_type": "markdown", 
            "metadata": {}
        }, 
        {
            "execution_count": null, 
            "cell_type": "code", 
            "metadata": {}, 
            "outputs": [], 
            "source": "response = assistant.list_dialog_nodes(\n    workspace_id = workspaceid\n)\n\nfor node in response[\"dialog_nodes\"]:\n    if (node[\"type\"] == \"folder\" or node[\"dialog_node\"] == \"end\" or node[\"dialog_node\"] == \"start\"):\n        nodename = node[\"dialog_node\"]\n        response = assistant.delete_dialog_node(\n            workspace_id = workspaceid,\n            dialog_node = nodename\n        )"
        }, 
        {
            "source": "## [\u6ce8\u610f] \u30ef\u30fc\u30af\u30b9\u30da\u30fc\u30b9\u306e\u524a\u9664\n- \u5fc5\u8981\u306a\u5834\u5408\u306b\u306e\u307f\u5b9f\u884c", 
            "cell_type": "markdown", 
            "metadata": {}
        }, 
        {
            "execution_count": null, 
            "cell_type": "code", 
            "metadata": {}, 
            "outputs": [], 
            "source": "response = assistant.delete_workspace(\n    workspace_id = workspaceid\n)"
        }, 
        {
            "source": "Copyright \u00a9 2018 IBM. This notebook and its source code are released under the terms of the MIT License.", 
            "cell_type": "markdown", 
            "metadata": {}
        }
    ], 
    "metadata": {
        "kernelspec": {
            "display_name": "Python 3.5", 
            "name": "python3", 
            "language": "python"
        }, 
        "language_info": {
            "mimetype": "text/x-python", 
            "nbconvert_exporter": "python", 
            "version": "3.5.4", 
            "name": "python", 
            "file_extension": ".py", 
            "pygments_lexer": "ipython3", 
            "codemirror_mode": {
                "version": 3, 
                "name": "ipython"
            }
        }
    }, 
    "nbformat": 4
}