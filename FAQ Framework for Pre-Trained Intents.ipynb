{
    "nbformat_minor": 2, 
    "cells": [
        {
            "source": "# \u6a5f\u80fd/\u76ee\u7684\n## - Assistant\u304c\u63d0\u4f9b\u3059\u308bPre-Trained Intents\u3092\u5229\u7528\u3059\u308b\u30c0\u30a4\u30a2\u30ed\u30b0\u30ce\u30fc\u30c9\u3092\u30ef\u30fc\u30af\u30b9\u30da\u30fc\u30b9\u306b\u8ffd\u52a0\u3059\u308b", 
            "cell_type": "markdown", 
            "metadata": {}
        }, 
        {
            "source": "## 0 \u524d\u63d0\u4f5c\u696d\n\n#### 1) \u5b66\u7fd2\u6e08\u307f\u30c7\u30fc\u30bf\u3092\u53d6\u308a\u8fbc\u3080\n- \u5b66\u7fd2\u6e08\u307f\u30a4\u30f3\u30c6\u30f3\u30c8\n    - \u30ef\u30fc\u30af\u30b9\u30da\u30fc\u30b9\u3092\u4f5c\u6210\u3057\u3066\u3001\u4e00\u822c\u3068e-\u30b3\u30de\u30fc\u30b9\u306e\u30a4\u30f3\u30c6\u30f3\u30c8\u3092\u53d6\u308a\u8fbc\u3093\u3067\u304a\u304f\n- \u30b7\u30b9\u30c6\u30e0\u30a8\u30f3\u30c6\u30a3\u30c6\u30a3\n    - \u65e5\u4ed8\u3001\u6642\u523b\u3001\u6570\u5b57\u3001\u30d1\u30fc\u30bb\u30f3\u30c8\u3001\u901a\u8ca8\u3068\u3044\u3063\u305f\u30c9\u30e1\u30a4\u30f3\u306b\u4f9d\u5b58\u3057\u306a\u3044\u30a8\u30f3\u30c6\u30a3\u30c6\u30a3\u3092\u6709\u52b9\u306b\u3059\u308b#### 2) Watson SDK\u306e\u5c0e\u5165\n\n#### 2) Watson SDK\u306e\u5c0e\u5165", 
            "cell_type": "markdown", 
            "metadata": {}
        }, 
        {
            "execution_count": null, 
            "cell_type": "code", 
            "metadata": {}, 
            "outputs": [], 
            "source": "!pip install --upgrade \"watson-developer-cloud>=1.3.0\" > /dev/null 2>&1"
        }, 
        {
            "source": "## 1 \u30af\u30ea\u30c7\u30f3\u30b7\u30e3\u30eb\u60c5\u5831\u306e\u30bb\u30c3\u30c8", 
            "cell_type": "markdown", 
            "metadata": {}
        }, 
        {
            "execution_count": null, 
            "cell_type": "code", 
            "metadata": {}, 
            "outputs": [], 
            "source": "# -*- coding: utf-8 -*-\nimport json\nimport re\nimport watson_developer_cloud\n\nworkspaceid = 'xxx'\nversionid = '2018-02-16'\n\nconversation = watson_developer_cloud.ConversationV1(\n    username='xxx',\n    password='xxx',\n    version= versionid\n)"
        }, 
        {
            "source": "## 2 \u521d\u671f\u30ce\u30fc\u30c9\u4f5c\u6210 (welcome, anything_else)", 
            "cell_type": "markdown", 
            "metadata": {}
        }, 
        {
            "execution_count": null, 
            "cell_type": "code", 
            "metadata": {}, 
            "outputs": [], 
            "source": "mynode = conversation.create_dialog_node(\n    workspace_id = workspaceid,\n    title = \"\u3088\u3046\u3053\u305d\",\n    conditions = \"welcome\",\n    output = {'text':\"\u3053\u3093\u306b\u3061\u306f\u3001\u30ef\u30c8\u30bd\u30f3\u3067\u3059\"},\n    dialog_node = \"start\"\n)\nmynode = conversation.create_dialog_node(\n    workspace_id = workspaceid,\n    title = \"\u305d\u306e\u4ed6\",\n    conditions = \"anything_else\",\n    output = {'text':\"\u89e3\u91c8\u3067\u304d\u307e\u305b\u3093\"},\n    dialog_node = \"end\",\n    previous_sibling = \"start\"\n)"
        }, 
        {
            "source": "## 3 \u30d5\u30a9\u30eb\u30c0\u4f5c\u6210 for Pre-Trained Intents", 
            "cell_type": "markdown", 
            "metadata": {}
        }, 
        {
            "execution_count": null, 
            "cell_type": "code", 
            "metadata": {}, 
            "outputs": [], 
            "source": "response = conversation.list_intents(\n    workspace_id = workspaceid\n)\n\n#\u30d5\u30a9\u30eb\u30c0\u540d\u306e\u751f\u6210\nmyintent = \"\"\nmyintents = []\nfor index, intent in enumerate(response[\"intents\"]):\n    index = intent[\"intent\"].find('_')\n    if (intent[\"intent\"][:index] != myintent):\n        myintent = intent[\"intent\"][:index]\n        myintents.append(myintent)\n\nfor fname in myintents:\n    conversation.create_dialog_node(\n        workspace_id = workspaceid,\n        title = fname,\n        conditions = \"true\",\n        dialog_node = fname,\n        node_type = \"folder\",\n        previous_sibling = \"start\"\n    )"
        }, 
        {
            "source": "## 4 Pre-Trained Intents\u7528\u30c0\u30a4\u30a2\u30ed\u30b0\u30ce\u30fc\u30c9\u306e\u4f5c\u6210", 
            "cell_type": "markdown", 
            "metadata": {}
        }, 
        {
            "execution_count": null, 
            "cell_type": "code", 
            "metadata": {}, 
            "outputs": [], 
            "source": "for fname in myintents:\n    for index, intent in enumerate(response[\"intents\"]):\n        nodename = intent[\"intent\"]\n        if nodename.find(fname) > -1:\n            myparent = fname\n            conversation.create_dialog_node(\n                workspace_id = workspaceid,\n                dialog_node = nodename,\n                conditions = '#' + nodename,\n                output = { 'text': \"\u307e\u3060\u5b66\u7fd2\u3057\u3066\u3044\u307e\u305b\u3093\"},\n                title = intent[\"description\"],\n                parent = myparent\n            )"
        }, 
        {
            "source": "## [\u6ce8\u610f] \u5168\u30ce\u30fc\u30c9\u306e\u524a\u9664\n- \u5fc5\u8981\u306a\u5834\u5408\u306b\u306e\u307f\u5b9f\u884c", 
            "cell_type": "markdown", 
            "metadata": {}
        }, 
        {
            "execution_count": null, 
            "cell_type": "code", 
            "metadata": {}, 
            "outputs": [], 
            "source": "response = conversation.list_dialog_nodes(\n    workspace_id = workspaceid\n)\n\nfor node in response[\"dialog_nodes\"]:\n    if (node[\"type\"] == \"folder\" or node[\"dialog_node\"] == \"end\" or node[\"dialog_node\"] == \"start\"):\n        nodename = node[\"dialog_node\"]\n        response = conversation.delete_dialog_node(\n            workspace_id = workspaceid,\n            dialog_node = nodename\n        )"
        }, 
        {
            "source": "Copyright \u00a9 2018 IBM. This notebook and its source code are released under the terms of the MIT License.", 
            "cell_type": "markdown", 
            "metadata": {}
        }
    ], 
    "metadata": {
        "kernelspec": {
            "display_name": "Python 3.5", 
            "name": "python3", 
            "language": "python"
        }, 
        "language_info": {
            "mimetype": "text/x-python", 
            "nbconvert_exporter": "python", 
            "version": "3.5.4", 
            "name": "python", 
            "file_extension": ".py", 
            "pygments_lexer": "ipython3", 
            "codemirror_mode": {
                "version": 3, 
                "name": "ipython"
            }
        }
    }, 
    "nbformat": 4
}