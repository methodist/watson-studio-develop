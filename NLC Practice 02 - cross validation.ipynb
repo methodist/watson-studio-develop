{
    "nbformat_minor": 1, 
    "cells": [
        {
            "source": "# NLC \u30af\u30ed\u30b9\u30d0\u30ea\u30c7\u30fc\u30b7\u30e7\u30f3\u30c6\u30b9\u30c8#1", 
            "cell_type": "markdown", 
            "metadata": {}
        }, 
        {
            "execution_count": null, 
            "cell_type": "code", 
            "metadata": {}, 
            "outputs": [], 
            "source": "!pip install --upgrade \"watson-developer-cloud>=1.3.3\""
        }, 
        {
            "execution_count": null, 
            "cell_type": "code", 
            "metadata": {}, 
            "outputs": [], 
            "source": "# The code was removed by DSX for sharing."
        }, 
        {
            "source": "## ICOS(IBM Cloud Object Storage)\u304b\u3089\u30d5\u30a1\u30a4\u30eb\u3092\u8aad\u307f\u8fbc\u3080 ", 
            "cell_type": "markdown", 
            "metadata": {}
        }, 
        {
            "execution_count": null, 
            "cell_type": "code", 
            "metadata": {}, 
            "outputs": [], 
            "source": "# The code was removed by DSX for sharing."
        }, 
        {
            "execution_count": null, 
            "cell_type": "code", 
            "metadata": {}, 
            "outputs": [], 
            "source": "from sklearn.model_selection import train_test_split\nX_train, X_test, T_train, T_test = train_test_split(df_data[\"\u30b5\u30f3\u30d7\u30eb\u6587\"], df_data[\"\u6b63\u89e3\u30af\u30e9\u30b9\"], test_size=0.2)\n# X_train \u8a13\u7df4\u30c7\u30fc\u30bf\u306e\u5165\u529b\n# X_test  \u30c6\u30b9\u30c8\u30c7\u30fc\u30bf\u306e\u5165\u529b\n# T_train \u8a13\u7df4\u30c7\u30fc\u30bf\u306e\u6b63\u89e3\u30e9\u30d9\u30eb\n# T_test  \u30c6\u30b9\u30c8\u30c7\u30fc\u30bf\u306e\u6b63\u89e3\u30e9\u30d9\u30eb\n\nprint('train size:', X_train.shape[0])\nprint('test size:', X_test.shape[0])"
        }, 
        {
            "execution_count": null, 
            "cell_type": "code", 
            "metadata": {}, 
            "outputs": [], 
            "source": "df_train = pd.concat([X_train,T_train],axis=1) #axis=1\u306f\u6a2a\u65b9\u5411\u306e\u7d50\u5408\u3092\u6307\u5b9a\u3057\u307e\u3059\u3002\ndf_train.head()"
        }, 
        {
            "source": "### \u30c8\u30ec\u30fc\u30cb\u30f3\u30b0\u7528\u30c7\u30fc\u30bf\u3092CSV\u30d5\u30a1\u30a4\u30eb\u306b\u4fdd\u5b58\u3059\u308b", 
            "cell_type": "markdown", 
            "metadata": {}
        }, 
        {
            "execution_count": null, 
            "cell_type": "code", 
            "metadata": {}, 
            "outputs": [], 
            "source": "DATA_SET = 'train.csv'\n!rm -f $DATA_SET\ndf_train.to_csv(DATA_SET, sep=\",\", encoding=\"utf8\", index=False, header=False)\n!ls -l $DATA_SET\n!head $DATA_SET"
        }, 
        {
            "execution_count": null, 
            "cell_type": "code", 
            "metadata": {
                "scrolled": true
            }, 
            "outputs": [], 
            "source": "df_test = pd.concat([X_test,T_test],axis=1) #axis=1\u306f\u6a2a\u65b9\u5411\u306e\u7d50\u5408\u3092\u6307\u5b9a\u3057\u307e\u3059\u3002\ndf_test.head()"
        }, 
        {
            "execution_count": null, 
            "cell_type": "code", 
            "metadata": {}, 
            "outputs": [], 
            "source": "# The code was removed by DSX for sharing."
        }, 
        {
            "execution_count": null, 
            "cell_type": "code", 
            "metadata": {}, 
            "outputs": [], 
            "source": "from watson_developer_cloud import NaturalLanguageClassifierV1\n\nnatural_language_classifier = NaturalLanguageClassifierV1(\n    username = credentials_nlc['username'],\n    password = credentials_nlc['password'])"
        }, 
        {
            "execution_count": null, 
            "cell_type": "code", 
            "metadata": {}, 
            "outputs": [], 
            "source": "natural_language_classifier.set_default_headers({'x-watson-learning-opt-out': \"true\"})"
        }, 
        {
            "execution_count": null, 
            "cell_type": "code", 
            "metadata": {}, 
            "outputs": [], 
            "source": "def create_classifier(mode):\n    # fetch all classifiers associated with the NLC instance\n    result = natural_language_classifier.list_classifiers()\n    # for the purposes of this demo, we handle only one classifier\n    # return the first one found\n    if mode == \"list\":\n        if len(result['classifiers']) > 0:\n            return result['classifiers']\n        else:\n            return {\"error\": \"\u30af\u30e9\u30b9\u3092\u4f5c\u6210\u3057\u3066\u304f\u3060\u3055\u3044\"}\n    if mode == \"add\":\n        print ('creating class ...')\n        # if none found, create a new classifier, change this value\n        with open(DATA_SET, 'rb') as training_data:\n            metadata = '{\"name\": \"abs_conc_class\", \"language\": \"ja\"}'\n            classifier = natural_language_classifier.create_classifier(\n                metadata=metadata,\n                training_data=training_data\n            )\n        return classifier"
        }, 
        {
            "execution_count": null, 
            "cell_type": "code", 
            "metadata": {}, 
            "outputs": [], 
            "source": "create_classifier('list')"
        }, 
        {
            "source": "### \u30af\u30e9\u30b9\u306e\u4f5c\u6210", 
            "cell_type": "markdown", 
            "metadata": {}
        }, 
        {
            "execution_count": null, 
            "cell_type": "code", 
            "metadata": {}, 
            "outputs": [], 
            "source": "myclass = create_classifier('add')\nmyclass"
        }, 
        {
            "source": "### \u30af\u30e9\u30b9\u304c\u4f7f\u3048\u308b\u72b6\u614b\u304b\u306e\u30c1\u30a7\u30c3\u30af", 
            "cell_type": "markdown", 
            "metadata": {}
        }, 
        {
            "execution_count": null, 
            "cell_type": "code", 
            "metadata": {}, 
            "outputs": [], 
            "source": "from time import sleep\nfrom datetime import datetime, timezone, timedelta\n\nJST = timezone(timedelta(hours=+9), 'JST')\n#CID='e998c1x363-nlc-976' #\u4e0a\u8a18 classifier_id\u3092\u30bb\u30c3\u30c8\u3059\u308b\nCID=myclass[\"classifier_id\"]\n\nwhile True:\n    status = natural_language_classifier.get_classifier(CID)\n    if status[\"status\"] == \"Available\":\n        print ('\u3067\u304d\u305f\u3088!!! \u6b21\u306b\u9032\u3081 ...')\n        break\n    else:\n        print ('\u307e\u3060\u3060\u3088... ', datetime.now(JST).strftime(\"%Y/%m/%d %H:%M:%S\"))\n        sleep(60)"
        }, 
        {
            "source": "### \u30c6\u30b9\u30c8\u30c7\u30fc\u30bf\u3067\u30af\u30e9\u30b9\u3092\u8a55\u4fa1\u3059\u308b", 
            "cell_type": "markdown", 
            "metadata": {}
        }, 
        {
            "execution_count": null, 
            "cell_type": "code", 
            "metadata": {}, 
            "outputs": [], 
            "source": "#\u30c6\u30b9\u30c8\u30c7\u30fc\u30bf\u3092\u4f7f\u3063\u3066\u30af\u30e9\u30b9\u3092\u8a55\u4fa1\u3059\u308b\nok=0\nng=0\n#for column_name, item in df_test.sample(30).iterrows():\n#for column_name, item in df_test.head().iterrows():\nfor column_name, item in df_test.iterrows():\n    #target = item[0][0:13] #\u5148\u982d\u304b\u308915\u6587\u5b57\u5206\u53d6\u5f97\n    target = item[0] # item[0]:1\u5217\u76ee(\u30b5\u30f3\u30d7\u30eb\u6587)\u3092\u53d6\u5f97\u3059\u308b\n    classes = natural_language_classifier.classify(CID, target)\n    if classes[\"classes\"][0][\"class_name\"][:3] == item[1][:3]:\n        ok += 1\n    else:\n        ng += 1\n    print('[%5s] %4s(%0.2f)' % (classes[\"classes\"][0][\"class_name\"][:3] == item[1][:3], # item[1]:2\u5217\u76ee\u306e\u6700\u521d\u306e3\u6587\u5b57 (\u6559\u5e2b\u30c7\u30fc\u30bf)\n                                classes[\"classes\"][0][\"class_name\"], \n                                classes[\"classes\"][0][\"confidence\"]), end=\"\")\n    \n    print(' << (%s) %s >>' % (item[1], target))\n\nprint ('\u30c8\u30fc\u30bf\u30eb = %d, OK = %d, NG = %d' % ((ok+ng),ok,ng))\nprint ('\u6b63\u89e3\u7387 = %0.2f' % (ok/(ok+ng)))\nprint ('\u30a8\u30e9\u30fc\u7387 = %0.2f' % (ng/(ok+ng)))"
        }, 
        {
            "source": "# (\u5fc5\u8981\u306a\u5834\u5408) \u30af\u30e9\u30b9\u306e\u524a\u9664", 
            "cell_type": "markdown", 
            "metadata": {}
        }, 
        {
            "execution_count": null, 
            "cell_type": "code", 
            "metadata": {}, 
            "outputs": [], 
            "source": "create_classifier('list')"
        }, 
        {
            "execution_count": null, 
            "cell_type": "code", 
            "metadata": {}, 
            "outputs": [], 
            "source": "DELCID='e998c1x363-nlc-976' #\u4e0a\u8a18 classifier_id\u3092\u30bb\u30c3\u30c8\u3059\u308b\nnatural_language_classifier.delete_classifier(DELCID)"
        }, 
        {
            "source": "# \u30d0\u30c3\u30af\u30a2\u30c3\u30d7", 
            "cell_type": "markdown", 
            "metadata": {}
        }, 
        {
            "execution_count": null, 
            "cell_type": "code", 
            "metadata": {}, 
            "outputs": [], 
            "source": "#\u3053\u308c\u3082\u3046\u307e\u304f\u3044\u3063\u305f\u304c...\n\nfor column_name, item in df_data.iloc[:,0].sample(10).iteritems():\n    target = item[0:15] #\u5148\u982d\u304b\u308915\u6587\u5b57\u5206\u53d6\u5f97\n    classes = natural_language_classifier.classify(CLASS, target)\n    print('%4s(%f)' % (classes[\"classes\"][0][\"class_name\"], classes[\"classes\"][0][\"confidence\"]), end=\"\")\n    print(' << %s >>' % target)"
        }, 
        {
            "execution_count": null, 
            "cell_type": "code", 
            "metadata": {}, 
            "outputs": [], 
            "source": "#\u30c8\u30ec\u30fc\u30cb\u30f3\u30b0\u7528\u30c7\u30fc\u30bf\u30d5\u30ec\u30fc\u30e0\u306e\u4f5c\u6210\ndf_train = pd.DataFrame(X_train)\ndf_train['\u56de\u7b54\u30af\u30e9\u30b9'] = T_train\ndf_train.head()"
        }, 
        {
            "execution_count": null, 
            "cell_type": "code", 
            "metadata": {}, 
            "outputs": [], 
            "source": "#\u30c6\u30b9\u30c8\u7528\u30c7\u30fc\u30bf\u30d5\u30ec\u30fc\u30e0\u306e\u4f5c\u6210\ndf_test = pd.DataFrame(X_test)\ndf_test['\u56de\u7b54\u30af\u30e9\u30b9'] = T_test\ndf_test.head()"
        }, 
        {
            "source": "# \u30c7\u30fc\u30bf\u30d5\u30ec\u30fc\u30e0\u64cd\u4f5c", 
            "cell_type": "markdown", 
            "metadata": {}
        }, 
        {
            "execution_count": null, 
            "cell_type": "code", 
            "metadata": {}, 
            "outputs": [], 
            "source": "df_data.index"
        }, 
        {
            "execution_count": null, 
            "cell_type": "code", 
            "metadata": {}, 
            "outputs": [], 
            "source": "df_data.columns"
        }, 
        {
            "execution_count": null, 
            "cell_type": "code", 
            "metadata": {}, 
            "outputs": [], 
            "source": "df_data.shape"
        }, 
        {
            "execution_count": null, 
            "cell_type": "code", 
            "metadata": {}, 
            "outputs": [], 
            "source": "df_data.info()"
        }, 
        {
            "execution_count": null, 
            "cell_type": "code", 
            "metadata": {}, 
            "outputs": [], 
            "source": "df_data[\"\u30b5\u30f3\u30d7\u30eb\u6587\"].head()"
        }, 
        {
            "execution_count": null, 
            "cell_type": "code", 
            "metadata": {}, 
            "outputs": [], 
            "source": "df_data.loc[:,\"\u30b5\u30f3\u30d7\u30eb\u6587\"].head()"
        }, 
        {
            "execution_count": null, 
            "cell_type": "code", 
            "metadata": {}, 
            "outputs": [], 
            "source": "df_data.iloc[:,0].head()"
        }
    ], 
    "metadata": {
        "kernelspec": {
            "display_name": "Python 3.5", 
            "name": "python3", 
            "language": "python"
        }, 
        "language_info": {
            "mimetype": "text/x-python", 
            "nbconvert_exporter": "python", 
            "version": "3.5.4", 
            "name": "python", 
            "file_extension": ".py", 
            "pygments_lexer": "ipython3", 
            "codemirror_mode": {
                "version": 3, 
                "name": "ipython"
            }
        }
    }, 
    "nbformat": 4
}