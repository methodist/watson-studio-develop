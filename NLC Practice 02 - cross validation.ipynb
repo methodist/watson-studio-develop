{
    "nbformat_minor": 1, 
    "cells": [
        {
            "source": "# NLC \u30af\u30ed\u30b9\u30d0\u30ea\u30c7\u30fc\u30b7\u30e7\u30f3\u30c6\u30b9\u30c8#1", 
            "cell_type": "markdown", 
            "metadata": {}
        }, 
        {
            "execution_count": 1, 
            "cell_type": "code", 
            "metadata": {}, 
            "outputs": [
                {
                    "output_type": "stream", 
                    "name": "stdout", 
                    "text": "Requirement already up-to-date: watson-developer-cloud>=1.3.3 in /opt/conda/envs/DSX-Python35/lib/python3.5/site-packages\nRequirement not upgraded as not directly required: Twisted>=13.2.0 in /opt/conda/envs/DSX-Python35/lib/python3.5/site-packages (from watson-developer-cloud>=1.3.3)\nRequirement not upgraded as not directly required: autobahn>=0.10.9 in /opt/conda/envs/DSX-Python35/lib/python3.5/site-packages (from watson-developer-cloud>=1.3.3)\nRequirement not upgraded as not directly required: python-dateutil>=2.5.3 in /opt/conda/envs/DSX-Python35/lib/python3.5/site-packages (from watson-developer-cloud>=1.3.3)\nRequirement not upgraded as not directly required: service-identity>=17.0.0 in /opt/conda/envs/DSX-Python35/lib/python3.5/site-packages (from watson-developer-cloud>=1.3.3)\nRequirement not upgraded as not directly required: requests<3.0,>=2.0 in /opt/conda/envs/DSX-Python35/lib/python3.5/site-packages (from watson-developer-cloud>=1.3.3)\nRequirement not upgraded as not directly required: pyOpenSSL>=16.2.0 in /opt/conda/envs/DSX-Python35/lib/python3.5/site-packages (from watson-developer-cloud>=1.3.3)\nRequirement not upgraded as not directly required: incremental>=16.10.1 in /opt/conda/envs/DSX-Python35/lib/python3.5/site-packages (from Twisted>=13.2.0->watson-developer-cloud>=1.3.3)\nRequirement not upgraded as not directly required: zope.interface>=4.4.2 in /opt/conda/envs/DSX-Python35/lib/python3.5/site-packages (from Twisted>=13.2.0->watson-developer-cloud>=1.3.3)\nRequirement not upgraded as not directly required: hyperlink>=17.1.1 in /opt/conda/envs/DSX-Python35/lib/python3.5/site-packages (from Twisted>=13.2.0->watson-developer-cloud>=1.3.3)\nRequirement not upgraded as not directly required: Automat>=0.3.0 in /opt/conda/envs/DSX-Python35/lib/python3.5/site-packages (from Twisted>=13.2.0->watson-developer-cloud>=1.3.3)\nRequirement not upgraded as not directly required: constantly>=15.1 in /opt/conda/envs/DSX-Python35/lib/python3.5/site-packages (from Twisted>=13.2.0->watson-developer-cloud>=1.3.3)\nRequirement not upgraded as not directly required: six>=1.10.0 in /opt/conda/envs/DSX-Python35/lib/python3.5/site-packages (from autobahn>=0.10.9->watson-developer-cloud>=1.3.3)\nRequirement not upgraded as not directly required: txaio>=2.10.0 in /opt/conda/envs/DSX-Python35/lib/python3.5/site-packages (from autobahn>=0.10.9->watson-developer-cloud>=1.3.3)\nRequirement not upgraded as not directly required: attrs in /opt/conda/envs/DSX-Python35/lib/python3.5/site-packages (from service-identity>=17.0.0->watson-developer-cloud>=1.3.3)\nRequirement not upgraded as not directly required: pyasn1 in /opt/conda/envs/DSX-Python35/lib/python3.5/site-packages (from service-identity>=17.0.0->watson-developer-cloud>=1.3.3)\nRequirement not upgraded as not directly required: pyasn1-modules in /opt/conda/envs/DSX-Python35/lib/python3.5/site-packages (from service-identity>=17.0.0->watson-developer-cloud>=1.3.3)\nRequirement not upgraded as not directly required: chardet<3.1.0,>=3.0.2 in /opt/conda/envs/DSX-Python35/lib/python3.5/site-packages (from requests<3.0,>=2.0->watson-developer-cloud>=1.3.3)\nRequirement not upgraded as not directly required: idna<2.7,>=2.5 in /opt/conda/envs/DSX-Python35/lib/python3.5/site-packages (from requests<3.0,>=2.0->watson-developer-cloud>=1.3.3)\nRequirement not upgraded as not directly required: urllib3<1.23,>=1.21.1 in /opt/conda/envs/DSX-Python35/lib/python3.5/site-packages (from requests<3.0,>=2.0->watson-developer-cloud>=1.3.3)\nRequirement not upgraded as not directly required: certifi>=2017.4.17 in /opt/conda/envs/DSX-Python35/lib/python3.5/site-packages (from requests<3.0,>=2.0->watson-developer-cloud>=1.3.3)\nRequirement not upgraded as not directly required: cryptography>=1.9 in /opt/conda/envs/DSX-Python35/lib/python3.5/site-packages (from pyOpenSSL>=16.2.0->watson-developer-cloud>=1.3.3)\nRequirement not upgraded as not directly required: setuptools in /opt/conda/envs/DSX-Python35/lib/python3.5/site-packages (from zope.interface>=4.4.2->Twisted>=13.2.0->watson-developer-cloud>=1.3.3)\nRequirement not upgraded as not directly required: asn1crypto>=0.21.0 in /opt/conda/envs/DSX-Python35/lib/python3.5/site-packages (from cryptography>=1.9->pyOpenSSL>=16.2.0->watson-developer-cloud>=1.3.3)\nRequirement not upgraded as not directly required: cffi>=1.7 in /opt/conda/envs/DSX-Python35/lib/python3.5/site-packages (from cryptography>=1.9->pyOpenSSL>=16.2.0->watson-developer-cloud>=1.3.3)\nRequirement not upgraded as not directly required: pycparser in /opt/conda/envs/DSX-Python35/lib/python3.5/site-packages (from cffi>=1.7->cryptography>=1.9->pyOpenSSL>=16.2.0->watson-developer-cloud>=1.3.3)\n"
                }
            ], 
            "source": "!pip install --upgrade \"watson-developer-cloud>=1.3.3\""
        }, 
        {
            "execution_count": 2, 
            "cell_type": "code", 
            "metadata": {}, 
            "outputs": [], 
            "source": "# The code was removed by DSX for sharing."
        }, 
        {
            "source": "## ICOS(IBM Cloud Object Storage)\u304b\u3089\u30d5\u30a1\u30a4\u30eb\u3092\u8aad\u307f\u8fbc\u3080 ", 
            "cell_type": "markdown", 
            "metadata": {}
        }, 
        {
            "execution_count": 3, 
            "cell_type": "code", 
            "metadata": {}, 
            "outputs": [
                {
                    "execution_count": 3, 
                    "metadata": {}, 
                    "data": {
                        "text/html": "<div>\n<style scoped>\n    .dataframe tbody tr th:only-of-type {\n        vertical-align: middle;\n    }\n\n    .dataframe tbody tr th {\n        vertical-align: top;\n    }\n\n    .dataframe thead th {\n        text-align: right;\n    }\n</style>\n<table border=\"1\" class=\"dataframe\">\n  <thead>\n    <tr style=\"text-align: right;\">\n      <th></th>\n      <th>\u30b5\u30f3\u30d7\u30eb\u6587</th>\n      <th>\u6b63\u89e3\u30af\u30e9\u30b9</th>\n    </tr>\n  </thead>\n  <tbody>\n    <tr>\n      <th>800</th>\n      <td>\u6d77\u5916\u306e\u30e1\u30ad\u30b7\u30b3\u306e\u307b\u3046\u3067\u805e\u3044\u3066\u3082</td>\n      <td>\u305d\u306e\u4ed67</td>\n    </tr>\n    <tr>\n      <th>970</th>\n      <td>\u6700\u60aa\u306a\u5834\u5408\u591a\u5c11\uff37\uff49\uff4e\uff44\uff4f\uff57\uff53\uff17\u3082\u30b5\u30dd\u30fc\u30c8\u671f\u9650\u5207\u308c\u3066\u3082\u4f7f\u308f\u3056\u308b\u3092\u5f97\u306a\u3044\u307f\u305f\u3044\u306a\u306d</td>\n      <td>\u305d\u306e\u4ed68</td>\n    </tr>\n    <tr>\n      <th>635</th>\n      <td>\u30b5\u30fc\u30d0\u30fc\u306e\u66f4\u65b0\u671f\u9650\u304c\u304d\u3066\u306a\u304b\u3063\u305f\u306e\u3067</td>\n      <td>\u305d\u306e\u4ed65</td>\n    </tr>\n    <tr>\n      <th>887</th>\n      <td>\u305d\u308c\u3082\u3042\u3063\u305f\u3093\u3067\u3059\u3051\u3069\u8981\u306f\u4eca\u5ea6\u56de\u7dda\u304c\u554f\u984c\u306b\u306a\u3063\u3066\u304f\u308b\u3058\u3083\u306a\u3044\u3067\u3059\u304b</td>\n      <td>\u305d\u306e\u4ed67</td>\n    </tr>\n    <tr>\n      <th>1073</th>\n      <td>\u3060\u304b\u3089\u3053\u3053\u3042\u3068\u4e09\u5e74\u3050\u3089\u3044\u304b\u3051\u3066</td>\n      <td>\u305d\u306e\u4ed69</td>\n    </tr>\n  </tbody>\n</table>\n</div>", 
                        "text/plain": "                                        \u30b5\u30f3\u30d7\u30eb\u6587 \u6b63\u89e3\u30af\u30e9\u30b9\n800                           \u6d77\u5916\u306e\u30e1\u30ad\u30b7\u30b3\u306e\u307b\u3046\u3067\u805e\u3044\u3066\u3082  \u305d\u306e\u4ed67\n970   \u6700\u60aa\u306a\u5834\u5408\u591a\u5c11\uff37\uff49\uff4e\uff44\uff4f\uff57\uff53\uff17\u3082\u30b5\u30dd\u30fc\u30c8\u671f\u9650\u5207\u308c\u3066\u3082\u4f7f\u308f\u3056\u308b\u3092\u5f97\u306a\u3044\u307f\u305f\u3044\u306a\u306d  \u305d\u306e\u4ed68\n635                        \u30b5\u30fc\u30d0\u30fc\u306e\u66f4\u65b0\u671f\u9650\u304c\u304d\u3066\u306a\u304b\u3063\u305f\u306e\u3067  \u305d\u306e\u4ed65\n887         \u305d\u308c\u3082\u3042\u3063\u305f\u3093\u3067\u3059\u3051\u3069\u8981\u306f\u4eca\u5ea6\u56de\u7dda\u304c\u554f\u984c\u306b\u306a\u3063\u3066\u304f\u308b\u3058\u3083\u306a\u3044\u3067\u3059\u304b  \u305d\u306e\u4ed67\n1073                          \u3060\u304b\u3089\u3053\u3053\u3042\u3068\u4e09\u5e74\u3050\u3089\u3044\u304b\u3051\u3066  \u305d\u306e\u4ed69"
                    }, 
                    "output_type": "execute_result"
                }
            ], 
            "source": "import sys\nimport types\nimport pandas as pd\nfrom botocore.client import Config\nimport ibm_boto3\n\ndef __iter__(self): return 0\n\n# The following code accesses a file in your IBM Cloud Object Storage. It includes your credentials.\n# You might want to remove those credentials before you share your notebook.\nclient_57aa90d5d3fb48158eac3f5038e6071e = ibm_boto3.client(service_name='s3',\n    ibm_api_key_id=credentials_1['IBM_API_KEY_ID'],\n    ibm_auth_endpoint=credentials_1['IBM_AUTH_ENDPOINT'],\n    config=Config(signature_version='oauth'),\n    endpoint_url=credentials_1['ENDPOINT'])\n\nbody = client_57aa90d5d3fb48158eac3f5038e6071e.get_object(Bucket='bipot1-donotdelete-pr-hjaisgrb6seoj9',Key='abs_select100_con_select100_add_other10.csv')['Body']\n# add missing __iter__ method, so pandas accepts body as file-like object\nif not hasattr(body, \"__iter__\"): body.__iter__ = types.MethodType( __iter__, body )\n\ndf_data = pd.read_csv(body, names=('\u30b5\u30f3\u30d7\u30eb\u6587','\u6b63\u89e3\u30af\u30e9\u30b9'))\n#df_data.head()\ndf_data.sample(5)"
        }, 
        {
            "execution_count": 4, 
            "cell_type": "code", 
            "metadata": {}, 
            "outputs": [
                {
                    "output_type": "stream", 
                    "name": "stdout", 
                    "text": "train size: 960\ntest size: 240\n"
                }
            ], 
            "source": "from sklearn.model_selection import train_test_split\nX_train, X_test, T_train, T_test = train_test_split(df_data[\"\u30b5\u30f3\u30d7\u30eb\u6587\"], df_data[\"\u6b63\u89e3\u30af\u30e9\u30b9\"], test_size=0.2)\n# X_train \u8a13\u7df4\u30c7\u30fc\u30bf\u306e\u5165\u529b\n# X_test  \u30c6\u30b9\u30c8\u30c7\u30fc\u30bf\u306e\u5165\u529b\n# T_train \u8a13\u7df4\u30c7\u30fc\u30bf\u306e\u6b63\u89e3\u30e9\u30d9\u30eb\n# T_test  \u30c6\u30b9\u30c8\u30c7\u30fc\u30bf\u306e\u6b63\u89e3\u30e9\u30d9\u30eb\n\nprint('train size:', X_train.shape[0])\nprint('test size:', X_test.shape[0])"
        }, 
        {
            "execution_count": 5, 
            "cell_type": "code", 
            "metadata": {}, 
            "outputs": [
                {
                    "execution_count": 5, 
                    "metadata": {}, 
                    "data": {
                        "text/html": "<div>\n<style scoped>\n    .dataframe tbody tr th:only-of-type {\n        vertical-align: middle;\n    }\n\n    .dataframe tbody tr th {\n        vertical-align: top;\n    }\n\n    .dataframe thead th {\n        text-align: right;\n    }\n</style>\n<table border=\"1\" class=\"dataframe\">\n  <thead>\n    <tr style=\"text-align: right;\">\n      <th></th>\n      <th>\u30b5\u30f3\u30d7\u30eb\u6587</th>\n      <th>\u6b63\u89e3\u30af\u30e9\u30b9</th>\n    </tr>\n  </thead>\n  <tbody>\n    <tr>\n      <th>398</th>\n      <td>\uff12\uff10\uff10\uff18\u3067\u6b8b\u3063\u3066\u308b\u3082\u306e\u306f\u3042\u308b\u306f\u305a\u3067\u3059</td>\n      <td>\u305d\u306e\u4ed62</td>\n    </tr>\n    <tr>\n      <th>320</th>\n      <td>\u7269\u4ef6\u7ba1\u7406\u306e\u307b\u3046\u3082\uff25\uff38\uff30\uff2c\uff21\uff2e\uff2e\uff25\uff32\u306e\u3061\u3087\u3063\u3068\u30b7\u30ea\u30fc\u30ba\u306f\u9055\u3044\u307e\u3059\u3051\u3069</td>\n      <td>\u305d\u306e\u4ed62</td>\n    </tr>\n    <tr>\n      <th>414</th>\n      <td>\u3061\u3087\u3063\u3068\u4eca\u56de\u521d\u3081\u3066\u7d66\u4e0e\u3068\u4f1a\u8a08\u540c\u3058\u30bd\u30d5\u30c8\u30a6\u30a7\u30a2\u306e\u4e2d\u3067\u3084\u3063\u3066\u3044\u308b\u3093\u3067\u3059\u3051\u3069</td>\n      <td>\u305d\u306e\u4ed63</td>\n    </tr>\n    <tr>\n      <th>39</th>\n      <td>\u30cd\u30c3\u30c8\u30ef\u30fc\u30af\u306e\u30b9\u30a4\u30c3\u30c1\u306b\u5165\u308c\u66ff\u3048\u3082\u5927\u4e38\u3055\u3093\u304c\u30d1\u30ca\u30bd\u30cb\u30c3\u30af\u88fd\u54c1\u3067\u9032\u3081\u3066\u3044\u308b</td>\n      <td>\u5177\u4f53</td>\n    </tr>\n    <tr>\n      <th>872</th>\n      <td>\u30d0\u30bf\u30d0\u30bf\u3057\u3066\u3057\u307e\u3063\u305f\u306e\u3067\u79cb\u53e3\u3050\u3089\u3044\u306b\u306f</td>\n      <td>\u305d\u306e\u4ed67</td>\n    </tr>\n  </tbody>\n</table>\n</div>", 
                        "text/plain": "                                    \u30b5\u30f3\u30d7\u30eb\u6587 \u6b63\u89e3\u30af\u30e9\u30b9\n398                    \uff12\uff10\uff10\uff18\u3067\u6b8b\u3063\u3066\u308b\u3082\u306e\u306f\u3042\u308b\u306f\u305a\u3067\u3059  \u305d\u306e\u4ed62\n320     \u7269\u4ef6\u7ba1\u7406\u306e\u307b\u3046\u3082\uff25\uff38\uff30\uff2c\uff21\uff2e\uff2e\uff25\uff32\u306e\u3061\u3087\u3063\u3068\u30b7\u30ea\u30fc\u30ba\u306f\u9055\u3044\u307e\u3059\u3051\u3069  \u305d\u306e\u4ed62\n414   \u3061\u3087\u3063\u3068\u4eca\u56de\u521d\u3081\u3066\u7d66\u4e0e\u3068\u4f1a\u8a08\u540c\u3058\u30bd\u30d5\u30c8\u30a6\u30a7\u30a2\u306e\u4e2d\u3067\u3084\u3063\u3066\u3044\u308b\u3093\u3067\u3059\u3051\u3069  \u305d\u306e\u4ed63\n39   \u30cd\u30c3\u30c8\u30ef\u30fc\u30af\u306e\u30b9\u30a4\u30c3\u30c1\u306b\u5165\u308c\u66ff\u3048\u3082\u5927\u4e38\u3055\u3093\u304c\u30d1\u30ca\u30bd\u30cb\u30c3\u30af\u88fd\u54c1\u3067\u9032\u3081\u3066\u3044\u308b    \u5177\u4f53\n872                   \u30d0\u30bf\u30d0\u30bf\u3057\u3066\u3057\u307e\u3063\u305f\u306e\u3067\u79cb\u53e3\u3050\u3089\u3044\u306b\u306f  \u305d\u306e\u4ed67"
                    }, 
                    "output_type": "execute_result"
                }
            ], 
            "source": "df_train = pd.concat([X_train,T_train],axis=1) #axis=1\u306f\u6a2a\u65b9\u5411\u306e\u7d50\u5408\u3092\u6307\u5b9a\u3057\u307e\u3059\u3002\ndf_train.head()"
        }, 
        {
            "source": "### \u30c8\u30ec\u30fc\u30cb\u30f3\u30b0\u7528\u30c7\u30fc\u30bf\u3092CSV\u30d5\u30a1\u30a4\u30eb\u306b\u4fdd\u5b58\u3059\u308b", 
            "cell_type": "markdown", 
            "metadata": {}
        }, 
        {
            "execution_count": 6, 
            "cell_type": "code", 
            "metadata": {}, 
            "outputs": [
                {
                    "output_type": "stream", 
                    "name": "stdout", 
                    "text": "-rw-r----- 1 dsxuser dsxuser 80708 May  3 14:11 train.csv\n\uff12\uff10\uff10\uff18\u3067\u6b8b\u3063\u3066\u308b\u3082\u306e\u306f\u3042\u308b\u306f\u305a\u3067\u3059,\u305d\u306e\u4ed62\n\u7269\u4ef6\u7ba1\u7406\u306e\u307b\u3046\u3082\uff25\uff38\uff30\uff2c\uff21\uff2e\uff2e\uff25\uff32\u306e\u3061\u3087\u3063\u3068\u30b7\u30ea\u30fc\u30ba\u306f\u9055\u3044\u307e\u3059\u3051\u3069,\u305d\u306e\u4ed62\n\u3061\u3087\u3063\u3068\u4eca\u56de\u521d\u3081\u3066\u7d66\u4e0e\u3068\u4f1a\u8a08\u540c\u3058\u30bd\u30d5\u30c8\u30a6\u30a7\u30a2\u306e\u4e2d\u3067\u3084\u3063\u3066\u3044\u308b\u3093\u3067\u3059\u3051\u3069,\u305d\u306e\u4ed63\n\u30cd\u30c3\u30c8\u30ef\u30fc\u30af\u306e\u30b9\u30a4\u30c3\u30c1\u306b\u5165\u308c\u66ff\u3048\u3082\u5927\u4e38\u3055\u3093\u304c\u30d1\u30ca\u30bd\u30cb\u30c3\u30af\u88fd\u54c1\u3067\u9032\u3081\u3066\u3044\u308b,\u5177\u4f53\n\u30d0\u30bf\u30d0\u30bf\u3057\u3066\u3057\u307e\u3063\u305f\u306e\u3067\u79cb\u53e3\u3050\u3089\u3044\u306b\u306f,\u305d\u306e\u4ed67\n\u30d5\u30ea\u30fc\u3067\u5bfe\u5fdc\u3059\u308b\u3063\u3066\u3053\u3068\u306f\u306a\u3044\u3093\u3067\u3059\u304b\u306d,\u305d\u306e\u4ed67\n\u4eca\u307e\u3067\u305d\u306e\uff2f\uff37\uff21\u4f7f\u3048\u3066\u3044\u305f\u3093\u3067\u3059\u3051\u3069,\u305d\u306e\u4ed62\n\u57fa\u677f\u306b\u5408\u308f\u305b\u305f\u5f62\u306e\u30cf\u30fc\u30c9\u306b\u5408\u308f\u305b\u305f\u5f62\u3067\u306f\u3042\u308b\u3068\u601d\u3046\u3093\u3067\u3059\u3051\u308c\u3069\u3082,\u305d\u306e\u4ed69\n\u7d50\u5c40\u30b5\u30dd\u30fc\u30c8\u304c\u7d42\u4e86\u3059\u308b\u3068\u3044\u3046\u3068\u3053\u308d\u3067,\u305d\u306e\u4ed64\n\u6b32\u3057\u3044\u60c5\u5831\u3063\u3066\u3044\u3046\u306e\u304c\u3059\u3050\u306b\u63a2\u305b\u306a\u3044\u3063\u3066\u306e\u304c\u52b9\u7387\u843d\u3061\u3066\u3044\u308b,\u5177\u4f53\n"
                }
            ], 
            "source": "DATA_SET = 'train.csv'\n!rm -f $DATA_SET\ndf_train.to_csv(DATA_SET, sep=\",\", encoding=\"utf8\", index=False, header=False)\n!ls -l $DATA_SET\n!head $DATA_SET"
        }, 
        {
            "execution_count": 7, 
            "cell_type": "code", 
            "metadata": {
                "scrolled": true
            }, 
            "outputs": [
                {
                    "execution_count": 7, 
                    "metadata": {}, 
                    "data": {
                        "text/html": "<div>\n<style scoped>\n    .dataframe tbody tr th:only-of-type {\n        vertical-align: middle;\n    }\n\n    .dataframe tbody tr th {\n        vertical-align: top;\n    }\n\n    .dataframe thead th {\n        text-align: right;\n    }\n</style>\n<table border=\"1\" class=\"dataframe\">\n  <thead>\n    <tr style=\"text-align: right;\">\n      <th></th>\n      <th>\u30b5\u30f3\u30d7\u30eb\u6587</th>\n      <th>\u6b63\u89e3\u30af\u30e9\u30b9</th>\n    </tr>\n  </thead>\n  <tbody>\n    <tr>\n      <th>1145</th>\n      <td>\u30ed\u30fc\u30c6\u30fc\u30b7\u30e7\u30f3\u3061\u3087\u3063\u3068\u3057\u3088\u3046\u304b\u306a\u3068\u304b</td>\n      <td>\u305d\u306e\u4ed610</td>\n    </tr>\n    <tr>\n      <th>136</th>\n      <td>\u305d\u306e\u8fba\u3042\u307e\u308a\u8a73\u3057\u304f\u306f\u8003\u3048\u3066\u3044\u306a\u3044\u3068\u601d\u3044\u307e\u3059</td>\n      <td>\u62bd\u8c61</td>\n    </tr>\n    <tr>\n      <th>750</th>\n      <td>\u3044\u3064\u307e\u3067\u305f\u3063\u3066\u3082\u4f7f\u3048\u306a\u3044\u3060\u3068\u304b</td>\n      <td>\u305d\u306e\u4ed66</td>\n    </tr>\n    <tr>\n      <th>411</th>\n      <td>\u305d\u306e\u3042\u305f\u308a\u3082\u542b\u3081\u306a\u304c\u3089\u306e\u691c\u8a0e\u306b\u306a\u3063\u3066\u304d\u307e\u3059\u306e\u3067</td>\n      <td>\u305d\u306e\u4ed63</td>\n    </tr>\n    <tr>\n      <th>296</th>\n      <td>\u4f55\u3067\u3057\u305f\u3063\u3051\uff0a\uff0a\uff0a\u3068\u304b\u3042\u3042\u3044\u3046\u306e\u3068\u306f\u307e\u305f\u9055\u3046\u306e\u304b\u306a</td>\n      <td>\u305d\u306e\u4ed61</td>\n    </tr>\n  </tbody>\n</table>\n</div>", 
                        "text/plain": "                          \u30b5\u30f3\u30d7\u30eb\u6587  \u6b63\u89e3\u30af\u30e9\u30b9\n1145         \u30ed\u30fc\u30c6\u30fc\u30b7\u30e7\u30f3\u3061\u3087\u3063\u3068\u3057\u3088\u3046\u304b\u306a\u3068\u304b  \u305d\u306e\u4ed610\n136       \u305d\u306e\u8fba\u3042\u307e\u308a\u8a73\u3057\u304f\u306f\u8003\u3048\u3066\u3044\u306a\u3044\u3068\u601d\u3044\u307e\u3059     \u62bd\u8c61\n750             \u3044\u3064\u307e\u3067\u305f\u3063\u3066\u3082\u4f7f\u3048\u306a\u3044\u3060\u3068\u304b   \u305d\u306e\u4ed66\n411     \u305d\u306e\u3042\u305f\u308a\u3082\u542b\u3081\u306a\u304c\u3089\u306e\u691c\u8a0e\u306b\u306a\u3063\u3066\u304d\u307e\u3059\u306e\u3067   \u305d\u306e\u4ed63\n296   \u4f55\u3067\u3057\u305f\u3063\u3051\uff0a\uff0a\uff0a\u3068\u304b\u3042\u3042\u3044\u3046\u306e\u3068\u306f\u307e\u305f\u9055\u3046\u306e\u304b\u306a   \u305d\u306e\u4ed61"
                    }, 
                    "output_type": "execute_result"
                }
            ], 
            "source": "df_test = pd.concat([X_test,T_test],axis=1) #axis=1\u306f\u6a2a\u65b9\u5411\u306e\u7d50\u5408\u3092\u6307\u5b9a\u3057\u307e\u3059\u3002\ndf_test.head()"
        }, 
        {
            "execution_count": 8, 
            "cell_type": "code", 
            "metadata": {}, 
            "outputs": [], 
            "source": "# The code was removed by DSX for sharing."
        }, 
        {
            "execution_count": 9, 
            "cell_type": "code", 
            "metadata": {}, 
            "outputs": [], 
            "source": "from watson_developer_cloud import NaturalLanguageClassifierV1\n\nnatural_language_classifier = NaturalLanguageClassifierV1(\n    username = credentials_nlc['username'],\n    password = credentials_nlc['password'])"
        }, 
        {
            "execution_count": 10, 
            "cell_type": "code", 
            "metadata": {}, 
            "outputs": [], 
            "source": "natural_language_classifier.set_default_headers({'x-watson-learning-opt-out': \"true\"})"
        }, 
        {
            "execution_count": 11, 
            "cell_type": "code", 
            "metadata": {}, 
            "outputs": [], 
            "source": "def create_classifier(mode):\n    # fetch all classifiers associated with the NLC instance\n    result = natural_language_classifier.list_classifiers()\n    # for the purposes of this demo, we handle only one classifier\n    # return the first one found\n    if mode == \"list\":\n        if len(result['classifiers']) > 0:\n            return result['classifiers']\n        else:\n            return {\"error\": \"\u30af\u30e9\u30b9\u3092\u4f5c\u6210\u3057\u3066\u304f\u3060\u3055\u3044\"}\n    if mode == \"add\":\n        print ('creating class ...')\n        # if none found, create a new classifier, change this value\n        with open(DATA_SET, 'rb') as training_data:\n            metadata = '{\"name\": \"abs_conc_class\", \"language\": \"ja\"}'\n            classifier = natural_language_classifier.create_classifier(\n                metadata=metadata,\n                training_data=training_data\n            )\n        return classifier"
        }, 
        {
            "execution_count": 12, 
            "cell_type": "code", 
            "metadata": {}, 
            "outputs": [
                {
                    "execution_count": 12, 
                    "metadata": {}, 
                    "data": {
                        "text/plain": "[{'classifier_id': '235069x378-nlc-63',\n  'created': '2018-05-03T11:41:32.981Z',\n  'language': 'ja',\n  'name': 'abs_conc_class',\n  'url': 'https://gateway.watsonplatform.net/natural-language-classifier/api/v1/classifiers/235069x378-nlc-63'}]"
                    }, 
                    "output_type": "execute_result"
                }
            ], 
            "source": "create_classifier('list')"
        }, 
        {
            "source": "### \u30af\u30e9\u30b9\u306e\u4f5c\u6210", 
            "cell_type": "markdown", 
            "metadata": {}
        }, 
        {
            "execution_count": 13, 
            "cell_type": "code", 
            "metadata": {}, 
            "outputs": [
                {
                    "output_type": "stream", 
                    "name": "stdout", 
                    "text": "creating class ...\n"
                }, 
                {
                    "execution_count": 13, 
                    "metadata": {}, 
                    "data": {
                        "text/plain": "{'classifier_id': 'e9fa7bx367-nlc-898',\n 'created': '2018-05-03T14:11:53.502Z',\n 'language': 'ja',\n 'name': 'abs_conc_class',\n 'status': 'Training',\n 'status_description': 'The classifier instance is in its training phase, not yet ready to accept classify requests',\n 'url': 'https://gateway.watsonplatform.net/natural-language-classifier/api/v1/classifiers/e9fa7bx367-nlc-898'}"
                    }, 
                    "output_type": "execute_result"
                }
            ], 
            "source": "myclass = create_classifier('add')\nmyclass"
        }, 
        {
            "source": "### \u30af\u30e9\u30b9\u304c\u4f7f\u3048\u308b\u72b6\u614b\u304b\u306e\u30c1\u30a7\u30c3\u30af", 
            "cell_type": "markdown", 
            "metadata": {}
        }, 
        {
            "execution_count": 14, 
            "cell_type": "code", 
            "metadata": {}, 
            "outputs": [
                {
                    "output_type": "stream", 
                    "name": "stdout", 
                    "text": "\u307e\u3060\u3060\u3088...  2018/05/03 23:12:03\n\u307e\u3060\u3060\u3088...  2018/05/03 23:13:04\n\u307e\u3060\u3060\u3088...  2018/05/03 23:14:04\n\u307e\u3060\u3060\u3088...  2018/05/03 23:15:04\n"
                }, 
                {
                    "ename": "KeyboardInterrupt", 
                    "evalue": "", 
                    "traceback": [
                        "\u001b[0;31m---------------------------------------------------------------------------\u001b[0m", 
                        "\u001b[0;31mKeyboardInterrupt\u001b[0m                         Traceback (most recent call last)", 
                        "\u001b[0;32m<ipython-input-14-2af9fac44c90>\u001b[0m in \u001b[0;36m<module>\u001b[0;34m()\u001b[0m\n\u001b[1;32m     13\u001b[0m     \u001b[0;32melse\u001b[0m\u001b[0;34m:\u001b[0m\u001b[0;34m\u001b[0m\u001b[0m\n\u001b[1;32m     14\u001b[0m         \u001b[0mprint\u001b[0m \u001b[0;34m(\u001b[0m\u001b[0;34m'\u307e\u3060\u3060\u3088... '\u001b[0m\u001b[0;34m,\u001b[0m \u001b[0mdatetime\u001b[0m\u001b[0;34m.\u001b[0m\u001b[0mnow\u001b[0m\u001b[0;34m(\u001b[0m\u001b[0mJST\u001b[0m\u001b[0;34m)\u001b[0m\u001b[0;34m.\u001b[0m\u001b[0mstrftime\u001b[0m\u001b[0;34m(\u001b[0m\u001b[0;34m\"%Y/%m/%d %H:%M:%S\"\u001b[0m\u001b[0;34m)\u001b[0m\u001b[0;34m)\u001b[0m\u001b[0;34m\u001b[0m\u001b[0m\n\u001b[0;32m---> 15\u001b[0;31m         \u001b[0msleep\u001b[0m\u001b[0;34m(\u001b[0m\u001b[0;36m60\u001b[0m\u001b[0;34m)\u001b[0m\u001b[0;34m\u001b[0m\u001b[0m\n\u001b[0m", 
                        "\u001b[0;31mKeyboardInterrupt\u001b[0m: "
                    ], 
                    "output_type": "error"
                }
            ], 
            "source": "from time import sleep\nfrom datetime import datetime, timezone, timedelta\n\nJST = timezone(timedelta(hours=+9), 'JST')\n#CID='e998c1x363-nlc-976' #\u4e0a\u8a18 classifier_id\u3092\u30bb\u30c3\u30c8\u3059\u308b\nCID=myclass[\"classifier_id\"]\n\nwhile True:\n    status = natural_language_classifier.get_classifier(CID)\n    if status[\"status\"] == \"Available\":\n        print ('\u3067\u304d\u305f\u3088!!! \u6b21\u306b\u9032\u3081 ...')\n        break\n    else:\n        print ('\u307e\u3060\u3060\u3088... ', datetime.now(JST).strftime(\"%Y/%m/%d %H:%M:%S\"))\n        sleep(60)"
        }, 
        {
            "source": "### \u30c6\u30b9\u30c8\u30c7\u30fc\u30bf\u3067\u30af\u30e9\u30b9\u3092\u8a55\u4fa1\u3059\u308b", 
            "cell_type": "markdown", 
            "metadata": {}
        }, 
        {
            "execution_count": null, 
            "cell_type": "code", 
            "metadata": {}, 
            "outputs": [], 
            "source": "#\u30c6\u30b9\u30c8\u30c7\u30fc\u30bf\u3092\u4f7f\u3063\u3066\u30af\u30e9\u30b9\u3092\u8a55\u4fa1\u3059\u308b\nok=0\nng=0\n#for column_name, item in df_test.sample(30).iterrows():\n#for column_name, item in df_test.head().iterrows():\nfor column_name, item in df_test.iterrows():\n    #target = item[0][0:13] #\u5148\u982d\u304b\u308915\u6587\u5b57\u5206\u53d6\u5f97\n    target = item[0] # item[0]:1\u5217\u76ee(\u30b5\u30f3\u30d7\u30eb\u6587)\u3092\u53d6\u5f97\u3059\u308b\n    classes = natural_language_classifier.classify(CID, target)\n    if classes[\"classes\"][0][\"class_name\"][:3] == item[1][:3]:\n        ok += 1\n    else:\n        ng += 1\n    print('[%5s] %4s(%0.2f)' % (classes[\"classes\"][0][\"class_name\"][:3] == item[1][:3], # item[1]:2\u5217\u76ee\u306e\u6700\u521d\u306e3\u6587\u5b57 (\u6559\u5e2b\u30c7\u30fc\u30bf)\n                                classes[\"classes\"][0][\"class_name\"], \n                                classes[\"classes\"][0][\"confidence\"]), end=\"\")\n    \n    print(' << (%s) %s >>' % (item[1], target))\n\nprint ('\u30c8\u30fc\u30bf\u30eb = %d, OK = %d, NG = %d' % ((ok+ng),ok,ng))\nprint ('\u6b63\u89e3\u7387 = %0.2f' % (ok/(ok+ng)))\nprint ('\u30a8\u30e9\u30fc\u7387 = %0.2f' % (ng/(ok+ng)))"
        }, 
        {
            "source": "# (\u5fc5\u8981\u306a\u5834\u5408) \u30af\u30e9\u30b9\u306e\u524a\u9664", 
            "cell_type": "markdown", 
            "metadata": {}
        }, 
        {
            "execution_count": null, 
            "cell_type": "code", 
            "metadata": {}, 
            "outputs": [], 
            "source": "create_classifier('list')"
        }, 
        {
            "execution_count": null, 
            "cell_type": "code", 
            "metadata": {}, 
            "outputs": [], 
            "source": "DELCID='e998c1x363-nlc-976' #\u4e0a\u8a18 classifier_id\u3092\u30bb\u30c3\u30c8\u3059\u308b\nnatural_language_classifier.delete_classifier(DELCID)"
        }, 
        {
            "source": "# \u30d0\u30c3\u30af\u30a2\u30c3\u30d7", 
            "cell_type": "markdown", 
            "metadata": {}
        }, 
        {
            "execution_count": null, 
            "cell_type": "code", 
            "metadata": {}, 
            "outputs": [], 
            "source": "#\u3053\u308c\u3082\u3046\u307e\u304f\u3044\u3063\u305f\u304c...\n\nfor column_name, item in df_data.iloc[:,0].sample(10).iteritems():\n    target = item[0:15] #\u5148\u982d\u304b\u308915\u6587\u5b57\u5206\u53d6\u5f97\n    classes = natural_language_classifier.classify(CLASS, target)\n    print('%4s(%f)' % (classes[\"classes\"][0][\"class_name\"], classes[\"classes\"][0][\"confidence\"]), end=\"\")\n    print(' << %s >>' % target)"
        }, 
        {
            "execution_count": null, 
            "cell_type": "code", 
            "metadata": {}, 
            "outputs": [], 
            "source": "#\u30c8\u30ec\u30fc\u30cb\u30f3\u30b0\u7528\u30c7\u30fc\u30bf\u30d5\u30ec\u30fc\u30e0\u306e\u4f5c\u6210\ndf_train = pd.DataFrame(X_train)\ndf_train['\u56de\u7b54\u30af\u30e9\u30b9'] = T_train\ndf_train.head()"
        }, 
        {
            "execution_count": null, 
            "cell_type": "code", 
            "metadata": {}, 
            "outputs": [], 
            "source": "#\u30c6\u30b9\u30c8\u7528\u30c7\u30fc\u30bf\u30d5\u30ec\u30fc\u30e0\u306e\u4f5c\u6210\ndf_test = pd.DataFrame(X_test)\ndf_test['\u56de\u7b54\u30af\u30e9\u30b9'] = T_test\ndf_test.head()"
        }, 
        {
            "source": "# \u30c7\u30fc\u30bf\u30d5\u30ec\u30fc\u30e0\u64cd\u4f5c", 
            "cell_type": "markdown", 
            "metadata": {}
        }, 
        {
            "execution_count": null, 
            "cell_type": "code", 
            "metadata": {}, 
            "outputs": [], 
            "source": "df_data.index"
        }, 
        {
            "execution_count": null, 
            "cell_type": "code", 
            "metadata": {}, 
            "outputs": [], 
            "source": "df_data.columns"
        }, 
        {
            "execution_count": null, 
            "cell_type": "code", 
            "metadata": {}, 
            "outputs": [], 
            "source": "df_data.shape"
        }, 
        {
            "execution_count": null, 
            "cell_type": "code", 
            "metadata": {}, 
            "outputs": [], 
            "source": "df_data.info()"
        }, 
        {
            "execution_count": null, 
            "cell_type": "code", 
            "metadata": {}, 
            "outputs": [], 
            "source": "df_data[\"\u30b5\u30f3\u30d7\u30eb\u6587\"].head()"
        }, 
        {
            "execution_count": null, 
            "cell_type": "code", 
            "metadata": {}, 
            "outputs": [], 
            "source": "df_data.loc[:,\"\u30b5\u30f3\u30d7\u30eb\u6587\"].head()"
        }, 
        {
            "execution_count": null, 
            "cell_type": "code", 
            "metadata": {}, 
            "outputs": [], 
            "source": "df_data.iloc[:,0].head()"
        }
    ], 
    "metadata": {
        "kernelspec": {
            "display_name": "Python 3.5", 
            "name": "python3", 
            "language": "python"
        }, 
        "language_info": {
            "mimetype": "text/x-python", 
            "nbconvert_exporter": "python", 
            "version": "3.5.4", 
            "name": "python", 
            "file_extension": ".py", 
            "pygments_lexer": "ipython3", 
            "codemirror_mode": {
                "version": 3, 
                "name": "ipython"
            }
        }
    }, 
    "nbformat": 4
}