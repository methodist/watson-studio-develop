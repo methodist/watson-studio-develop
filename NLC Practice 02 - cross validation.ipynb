{
    "nbformat_minor": 1, 
    "cells": [
        {
            "source": "# NLC \u30af\u30ed\u30b9\u30d0\u30ea\u30c7\u30fc\u30b7\u30e7\u30f3\u30c6\u30b9\u30c8#1", 
            "cell_type": "markdown", 
            "metadata": {}
        }, 
        {
            "execution_count": 1, 
            "cell_type": "code", 
            "metadata": {}, 
            "outputs": [
                {
                    "output_type": "stream", 
                    "name": "stdout", 
                    "text": "Requirement already up-to-date: watson-developer-cloud>=1.3.3 in /opt/conda/envs/DSX-Python35/lib/python3.5/site-packages\nRequirement not upgraded as not directly required: pyOpenSSL>=16.2.0 in /opt/conda/envs/DSX-Python35/lib/python3.5/site-packages (from watson-developer-cloud>=1.3.3)\nRequirement not upgraded as not directly required: requests<3.0,>=2.0 in /opt/conda/envs/DSX-Python35/lib/python3.5/site-packages (from watson-developer-cloud>=1.3.3)\nRequirement not upgraded as not directly required: python-dateutil>=2.5.3 in /opt/conda/envs/DSX-Python35/lib/python3.5/site-packages (from watson-developer-cloud>=1.3.3)\nRequirement not upgraded as not directly required: Twisted>=13.2.0 in /opt/conda/envs/DSX-Python35/lib/python3.5/site-packages (from watson-developer-cloud>=1.3.3)\nRequirement not upgraded as not directly required: autobahn>=0.10.9 in /opt/conda/envs/DSX-Python35/lib/python3.5/site-packages (from watson-developer-cloud>=1.3.3)\nRequirement not upgraded as not directly required: service-identity>=17.0.0 in /opt/conda/envs/DSX-Python35/lib/python3.5/site-packages (from watson-developer-cloud>=1.3.3)\nRequirement not upgraded as not directly required: cryptography>=1.9 in /opt/conda/envs/DSX-Python35/lib/python3.5/site-packages (from pyOpenSSL>=16.2.0->watson-developer-cloud>=1.3.3)\nRequirement not upgraded as not directly required: six>=1.5.2 in /opt/conda/envs/DSX-Python35/lib/python3.5/site-packages (from pyOpenSSL>=16.2.0->watson-developer-cloud>=1.3.3)\nRequirement not upgraded as not directly required: chardet<3.1.0,>=3.0.2 in /opt/conda/envs/DSX-Python35/lib/python3.5/site-packages (from requests<3.0,>=2.0->watson-developer-cloud>=1.3.3)\nRequirement not upgraded as not directly required: idna<2.7,>=2.5 in /opt/conda/envs/DSX-Python35/lib/python3.5/site-packages (from requests<3.0,>=2.0->watson-developer-cloud>=1.3.3)\nRequirement not upgraded as not directly required: urllib3<1.23,>=1.21.1 in /opt/conda/envs/DSX-Python35/lib/python3.5/site-packages (from requests<3.0,>=2.0->watson-developer-cloud>=1.3.3)\nRequirement not upgraded as not directly required: certifi>=2017.4.17 in /opt/conda/envs/DSX-Python35/lib/python3.5/site-packages (from requests<3.0,>=2.0->watson-developer-cloud>=1.3.3)\nRequirement not upgraded as not directly required: zope.interface>=4.4.2 in /opt/conda/envs/DSX-Python35/lib/python3.5/site-packages (from Twisted>=13.2.0->watson-developer-cloud>=1.3.3)\nRequirement not upgraded as not directly required: incremental>=16.10.1 in /opt/conda/envs/DSX-Python35/lib/python3.5/site-packages (from Twisted>=13.2.0->watson-developer-cloud>=1.3.3)\nRequirement not upgraded as not directly required: hyperlink>=17.1.1 in /opt/conda/envs/DSX-Python35/lib/python3.5/site-packages (from Twisted>=13.2.0->watson-developer-cloud>=1.3.3)\nRequirement not upgraded as not directly required: Automat>=0.3.0 in /opt/conda/envs/DSX-Python35/lib/python3.5/site-packages (from Twisted>=13.2.0->watson-developer-cloud>=1.3.3)\nRequirement not upgraded as not directly required: constantly>=15.1 in /opt/conda/envs/DSX-Python35/lib/python3.5/site-packages (from Twisted>=13.2.0->watson-developer-cloud>=1.3.3)\nRequirement not upgraded as not directly required: txaio>=2.10.0 in /opt/conda/envs/DSX-Python35/lib/python3.5/site-packages (from autobahn>=0.10.9->watson-developer-cloud>=1.3.3)\nRequirement not upgraded as not directly required: pyasn1 in /opt/conda/envs/DSX-Python35/lib/python3.5/site-packages (from service-identity>=17.0.0->watson-developer-cloud>=1.3.3)\nRequirement not upgraded as not directly required: pyasn1-modules in /opt/conda/envs/DSX-Python35/lib/python3.5/site-packages (from service-identity>=17.0.0->watson-developer-cloud>=1.3.3)\nRequirement not upgraded as not directly required: attrs in /opt/conda/envs/DSX-Python35/lib/python3.5/site-packages (from service-identity>=17.0.0->watson-developer-cloud>=1.3.3)\nRequirement not upgraded as not directly required: asn1crypto>=0.21.0 in /opt/conda/envs/DSX-Python35/lib/python3.5/site-packages (from cryptography>=1.9->pyOpenSSL>=16.2.0->watson-developer-cloud>=1.3.3)\nRequirement not upgraded as not directly required: cffi>=1.7 in /opt/conda/envs/DSX-Python35/lib/python3.5/site-packages (from cryptography>=1.9->pyOpenSSL>=16.2.0->watson-developer-cloud>=1.3.3)\nRequirement not upgraded as not directly required: setuptools in /opt/conda/envs/DSX-Python35/lib/python3.5/site-packages (from zope.interface>=4.4.2->Twisted>=13.2.0->watson-developer-cloud>=1.3.3)\nRequirement not upgraded as not directly required: pycparser in /opt/conda/envs/DSX-Python35/lib/python3.5/site-packages (from cffi>=1.7->cryptography>=1.9->pyOpenSSL>=16.2.0->watson-developer-cloud>=1.3.3)\n"
                }
            ], 
            "source": "!pip install --upgrade \"watson-developer-cloud>=1.3.3\""
        }, 
        {
            "execution_count": 2, 
            "cell_type": "code", 
            "metadata": {}, 
            "outputs": [], 
            "source": "# The code was removed by DSX for sharing."
        }, 
        {
            "source": "## ICOS(IBM Cloud Object Storage)\u304b\u3089\u30d5\u30a1\u30a4\u30eb\u3092\u8aad\u307f\u8fbc\u3080 ", 
            "cell_type": "markdown", 
            "metadata": {}
        }, 
        {
            "execution_count": 3, 
            "cell_type": "code", 
            "metadata": {}, 
            "outputs": [
                {
                    "execution_count": 3, 
                    "metadata": {}, 
                    "data": {
                        "text/html": "<div>\n<style scoped>\n    .dataframe tbody tr th:only-of-type {\n        vertical-align: middle;\n    }\n\n    .dataframe tbody tr th {\n        vertical-align: top;\n    }\n\n    .dataframe thead th {\n        text-align: right;\n    }\n</style>\n<table border=\"1\" class=\"dataframe\">\n  <thead>\n    <tr style=\"text-align: right;\">\n      <th></th>\n      <th>\u30b5\u30f3\u30d7\u30eb\u6587</th>\n      <th>\u6b63\u89e3\u30af\u30e9\u30b9</th>\n    </tr>\n  </thead>\n  <tbody>\n    <tr>\n      <th>1137</th>\n      <td>\u30d1\u30e9\u30e1\u30fc\u30bf\u3092\u3061\u3087\u3063\u3068\u76f4\u3057\u3066\u304a\u304f\u304b\u3068\u304b</td>\n      <td>\u305d\u306e\u4ed610</td>\n    </tr>\n    <tr>\n      <th>1097</th>\n      <td>\u305f\u3060\u3046\u3061\u306e\u696d\u754c\u7d4c\u9a13\u3042\u308b\u3044\u306f\u3042\u308b\u7a0b\u5ea6\u305d\u3053\u306b</td>\n      <td>\u305d\u306e\u4ed69</td>\n    </tr>\n    <tr>\n      <th>663</th>\n      <td>\u3088\u305d\u306e\u4f1a\u793e\u306e\u305d\u3046\u3044\u3046\u7d71\u5408\u7684\u306a\u88fd\u54c1\u3092\u898b\u5b66\u306b\u884c\u3063\u3066\u3082\u3089\u3063\u305f\u308a\u306f\u3057\u3066\u307e\u3059\u3051\u308c\u3069\u3082</td>\n      <td>\u305d\u306e\u4ed65</td>\n    </tr>\n    <tr>\n      <th>203</th>\n      <td>\u305d\u3046\u3044\u3046\u3053\u3068\u304c\u3067\u304d\u307e\u3059\u3088\u3063\u3066\u3044\u3046\u306e\u306e\u30bb\u30df\u30ca\u30fc\u306b\u884c\u3063\u3066\u3082\u3089\u3063\u305f\u308a\u306f\u3057\u3066\u307e\u3059\u3051\u308c\u3069\u3082\u306d</td>\n      <td>\u305d\u306e\u4ed61</td>\n    </tr>\n    <tr>\n      <th>565</th>\n      <td>\u30aa\u30fc\u30c8\u30d0\u30c3\u30af\u30b9\u306f\u3082\u3046\u5168\u3066\u30aa\u30fc\u30c8\u30d0\u30c3\u30af\u30b9\u672c\u90e8\u304c\u3064\u304f\u3063\u305f\u30b7\u30b9\u30c6\u30e0\u3057\u304b\u63a1\u7528\u3067\u304d\u306a\u3044\u3053\u3068\u306b\u306a\u3063\u3066\u308b\u3093\u3067</td>\n      <td>\u305d\u306e\u4ed64</td>\n    </tr>\n  </tbody>\n</table>\n</div>", 
                        "text/plain": "                                                \u30b5\u30f3\u30d7\u30eb\u6587  \u6b63\u89e3\u30af\u30e9\u30b9\n1137                               \u30d1\u30e9\u30e1\u30fc\u30bf\u3092\u3061\u3087\u3063\u3068\u76f4\u3057\u3066\u304a\u304f\u304b\u3068\u304b  \u305d\u306e\u4ed610\n1097                             \u305f\u3060\u3046\u3061\u306e\u696d\u754c\u7d4c\u9a13\u3042\u308b\u3044\u306f\u3042\u308b\u7a0b\u5ea6\u305d\u3053\u306b   \u305d\u306e\u4ed69\n663             \u3088\u305d\u306e\u4f1a\u793e\u306e\u305d\u3046\u3044\u3046\u7d71\u5408\u7684\u306a\u88fd\u54c1\u3092\u898b\u5b66\u306b\u884c\u3063\u3066\u3082\u3089\u3063\u305f\u308a\u306f\u3057\u3066\u307e\u3059\u3051\u308c\u3069\u3082   \u305d\u306e\u4ed65\n203         \u305d\u3046\u3044\u3046\u3053\u3068\u304c\u3067\u304d\u307e\u3059\u3088\u3063\u3066\u3044\u3046\u306e\u306e\u30bb\u30df\u30ca\u30fc\u306b\u884c\u3063\u3066\u3082\u3089\u3063\u305f\u308a\u306f\u3057\u3066\u307e\u3059\u3051\u308c\u3069\u3082\u306d   \u305d\u306e\u4ed61\n565   \u30aa\u30fc\u30c8\u30d0\u30c3\u30af\u30b9\u306f\u3082\u3046\u5168\u3066\u30aa\u30fc\u30c8\u30d0\u30c3\u30af\u30b9\u672c\u90e8\u304c\u3064\u304f\u3063\u305f\u30b7\u30b9\u30c6\u30e0\u3057\u304b\u63a1\u7528\u3067\u304d\u306a\u3044\u3053\u3068\u306b\u306a\u3063\u3066\u308b\u3093\u3067   \u305d\u306e\u4ed64"
                    }, 
                    "output_type": "execute_result"
                }
            ], 
            "source": "import sys\nimport types\nimport pandas as pd\nfrom botocore.client import Config\nimport ibm_boto3\n\ndef __iter__(self): return 0\n\n# The following code accesses a file in your IBM Cloud Object Storage. It includes your credentials.\n# You might want to remove those credentials before you share your notebook.\nclient_57aa90d5d3fb48158eac3f5038e6071e = ibm_boto3.client(service_name='s3',\n    ibm_api_key_id=credentials_1['IBM_API_KEY_ID'],\n    ibm_auth_endpoint=credentials_1['IBM_AUTH_ENDPOINT'],\n    config=Config(signature_version='oauth'),\n    endpoint_url=credentials_1['ENDPOINT'])\n\nbody = client_57aa90d5d3fb48158eac3f5038e6071e.get_object(Bucket='bipot1-donotdelete-pr-hjaisgrb6seoj9',Key='abs_select100_con_select100_add_other10.csv')['Body']\n# add missing __iter__ method, so pandas accepts body as file-like object\nif not hasattr(body, \"__iter__\"): body.__iter__ = types.MethodType( __iter__, body )\n\ndf_data = pd.read_csv(body, names=('\u30b5\u30f3\u30d7\u30eb\u6587','\u6b63\u89e3\u30af\u30e9\u30b9'))\n#df_data.head()\ndf_data.sample(5)"
        }, 
        {
            "execution_count": 4, 
            "cell_type": "code", 
            "metadata": {}, 
            "outputs": [
                {
                    "output_type": "stream", 
                    "name": "stdout", 
                    "text": "train size: 960\ntest size: 240\n"
                }
            ], 
            "source": "from sklearn.model_selection import train_test_split\nX_train, X_test, T_train, T_test = train_test_split(df_data[\"\u30b5\u30f3\u30d7\u30eb\u6587\"], df_data[\"\u6b63\u89e3\u30af\u30e9\u30b9\"], test_size=0.2)\n# X_train \u8a13\u7df4\u30c7\u30fc\u30bf\u306e\u5165\u529b\n# X_test  \u30c6\u30b9\u30c8\u30c7\u30fc\u30bf\u306e\u5165\u529b\n# T_train \u8a13\u7df4\u30c7\u30fc\u30bf\u306e\u6b63\u89e3\u30e9\u30d9\u30eb\n# T_test  \u30c6\u30b9\u30c8\u30c7\u30fc\u30bf\u306e\u6b63\u89e3\u30e9\u30d9\u30eb\n\nprint('train size:', X_train.shape[0])\nprint('test size:', X_test.shape[0])"
        }, 
        {
            "execution_count": 5, 
            "cell_type": "code", 
            "metadata": {}, 
            "outputs": [
                {
                    "execution_count": 5, 
                    "metadata": {}, 
                    "data": {
                        "text/html": "<div>\n<style scoped>\n    .dataframe tbody tr th:only-of-type {\n        vertical-align: middle;\n    }\n\n    .dataframe tbody tr th {\n        vertical-align: top;\n    }\n\n    .dataframe thead th {\n        text-align: right;\n    }\n</style>\n<table border=\"1\" class=\"dataframe\">\n  <thead>\n    <tr style=\"text-align: right;\">\n      <th></th>\n      <th>\u30b5\u30f3\u30d7\u30eb\u6587</th>\n      <th>\u6b63\u89e3\u30af\u30e9\u30b9</th>\n    </tr>\n  </thead>\n  <tbody>\n    <tr>\n      <th>822</th>\n      <td>\u3042\u3068\u30aa\u30fc\u30d7\u30f3\u7cfb\u306e\u30b7\u30b9\u30c6\u30e0\u5165\u308c\u308c\u305f\u3089\u306a\u3068\u8003\u3048\u3066\u3044\u307e\u3057\u3066</td>\n      <td>\u305d\u306e\u4ed67</td>\n    </tr>\n    <tr>\n      <th>793</th>\n      <td>\u3069\u3061\u3089\u306b\u3057\u3066\u3082\u3082\u3089\u3046\u5f62\u306b\u306a\u308b\u3068\u601d\u3046\u3093\u3067</td>\n      <td>\u305d\u306e\u4ed66</td>\n    </tr>\n    <tr>\n      <th>748</th>\n      <td>\u307b\u304b\u306b\u3082\u3082\u3046\u4e00\u3064\u306a\u3093\u3067\u3059\u304c\uff08\uff1f\uff09</td>\n      <td>\u305d\u306e\u4ed66</td>\n    </tr>\n    <tr>\n      <th>195</th>\n      <td>\u305d\u308c\u3092\u3069\u3046\u3059\u308b\u306e\u304b\u3068\u8003\u3048\u3066\u3044\u308b\u3068\u3053\u308d\u304c\u3042\u3063\u3066</td>\n      <td>\u62bd\u8c61</td>\n    </tr>\n    <tr>\n      <th>109</th>\n      <td>\u8208\u5473\u304c\u3042\u308b\u3068\u3044\u3048\u3070\u3042\u308a\u307e\u3059\u3088</td>\n      <td>\u62bd\u8c61</td>\n    </tr>\n  </tbody>\n</table>\n</div>", 
                        "text/plain": "                          \u30b5\u30f3\u30d7\u30eb\u6587 \u6b63\u89e3\u30af\u30e9\u30b9\n822  \u3042\u3068\u30aa\u30fc\u30d7\u30f3\u7cfb\u306e\u30b7\u30b9\u30c6\u30e0\u5165\u308c\u308c\u305f\u3089\u306a\u3068\u8003\u3048\u3066\u3044\u307e\u3057\u3066  \u305d\u306e\u4ed67\n793         \u3069\u3061\u3089\u306b\u3057\u3066\u3082\u3082\u3089\u3046\u5f62\u306b\u306a\u308b\u3068\u601d\u3046\u3093\u3067  \u305d\u306e\u4ed66\n748            \u307b\u304b\u306b\u3082\u3082\u3046\u4e00\u3064\u306a\u3093\u3067\u3059\u304c\uff08\uff1f\uff09  \u305d\u306e\u4ed66\n195      \u305d\u308c\u3092\u3069\u3046\u3059\u308b\u306e\u304b\u3068\u8003\u3048\u3066\u3044\u308b\u3068\u3053\u308d\u304c\u3042\u3063\u3066    \u62bd\u8c61\n109              \u8208\u5473\u304c\u3042\u308b\u3068\u3044\u3048\u3070\u3042\u308a\u307e\u3059\u3088    \u62bd\u8c61"
                    }, 
                    "output_type": "execute_result"
                }
            ], 
            "source": "df_train = pd.concat([X_train,T_train],axis=1) #axis=1\u306f\u6a2a\u65b9\u5411\u306e\u7d50\u5408\u3092\u6307\u5b9a\u3057\u307e\u3059\u3002\ndf_train.head()"
        }, 
        {
            "source": "### \u30c8\u30ec\u30fc\u30cb\u30f3\u30b0\u7528\u30c7\u30fc\u30bf\u3092CSV\u30d5\u30a1\u30a4\u30eb\u306b\u4fdd\u5b58\u3059\u308b", 
            "cell_type": "markdown", 
            "metadata": {}
        }, 
        {
            "execution_count": 6, 
            "cell_type": "code", 
            "metadata": {}, 
            "outputs": [
                {
                    "output_type": "stream", 
                    "name": "stdout", 
                    "text": "-rw-r----- 1 dsxuser dsxuser 80329 May  3 14:18 train.csv\n\u3042\u3068\u30aa\u30fc\u30d7\u30f3\u7cfb\u306e\u30b7\u30b9\u30c6\u30e0\u5165\u308c\u308c\u305f\u3089\u306a\u3068\u8003\u3048\u3066\u3044\u307e\u3057\u3066,\u305d\u306e\u4ed67\n\u3069\u3061\u3089\u306b\u3057\u3066\u3082\u3082\u3089\u3046\u5f62\u306b\u306a\u308b\u3068\u601d\u3046\u3093\u3067,\u305d\u306e\u4ed66\n\u307b\u304b\u306b\u3082\u3082\u3046\u4e00\u3064\u306a\u3093\u3067\u3059\u304c\uff08\uff1f\uff09,\u305d\u306e\u4ed66\n\u305d\u308c\u3092\u3069\u3046\u3059\u308b\u306e\u304b\u3068\u8003\u3048\u3066\u3044\u308b\u3068\u3053\u308d\u304c\u3042\u3063\u3066,\u62bd\u8c61\n\u8208\u5473\u304c\u3042\u308b\u3068\u3044\u3048\u3070\u3042\u308a\u307e\u3059\u3088,\u62bd\u8c61\n\u305d\u3053\u3089\u8fba\u304c\u30e6\u30fc\u30b6\u30fc\u5316\u3092\u610f\u8b58\u3059\u308b\u3053\u3068\u306a\u304f,\u305d\u306e\u4ed65\n\u6700\u60aa\u306a\u5834\u5408\u591a\u5c11\uff37\uff49\uff4e\uff44\uff4f\uff57\uff53\uff17\u3082\u30b5\u30dd\u30fc\u30c8\u671f\u9650\u5207\u308c\u3066\u3082\u4f7f\u308f\u3056\u308b\u3092\u5f97\u306a\u3044\u307f\u305f\u3044\u306a\u306d,\u305d\u306e\u4ed68\n\u8981\u3059\u308b\u306b\u305d\u306e\u8fba\u304c\u304d\u3061\u3093\u3068\u56fa\u307e\u3063\u305f\u4e0a\u3067\u306e,\u305d\u306e\u4ed63\n\u305d\u308c\u3067\u307e\u305f\u305d\u3053\u306b\u304a\u91d1\u3064\u304e\u8fbc\u3093\u3069\u3044\u3066,\u305d\u306e\u4ed64\n\u305d\u308c\u306f\u4f55\u304b\u6709\u6599\u3068\u304b\u90fd\u5ea6\u90fd\u5ea6\u307f\u305f\u3044\u306a\u305d\u3093\u306a\u611f\u3058\u3067\u3059\u304b\u306d,\u305d\u306e\u4ed65\n"
                }
            ], 
            "source": "DATA_SET = 'train.csv'\n!rm -f $DATA_SET\ndf_train.to_csv(DATA_SET, sep=\",\", encoding=\"utf8\", index=False, header=False)\n!ls -l $DATA_SET\n!head $DATA_SET"
        }, 
        {
            "execution_count": 7, 
            "cell_type": "code", 
            "metadata": {
                "scrolled": true
            }, 
            "outputs": [
                {
                    "execution_count": 7, 
                    "metadata": {}, 
                    "data": {
                        "text/html": "<div>\n<style scoped>\n    .dataframe tbody tr th:only-of-type {\n        vertical-align: middle;\n    }\n\n    .dataframe tbody tr th {\n        vertical-align: top;\n    }\n\n    .dataframe thead th {\n        text-align: right;\n    }\n</style>\n<table border=\"1\" class=\"dataframe\">\n  <thead>\n    <tr style=\"text-align: right;\">\n      <th></th>\n      <th>\u30b5\u30f3\u30d7\u30eb\u6587</th>\n      <th>\u6b63\u89e3\u30af\u30e9\u30b9</th>\n    </tr>\n  </thead>\n  <tbody>\n    <tr>\n      <th>34</th>\n      <td>\u3069\u306ePC\u304c\u3069\u308c\u3060\u3051\u30c8\u30e9\u30d5\u30a3\u30c3\u30af\u3092\u4f7f\u3063\u3066\u3044\u308b\u306a\u3069\u306e\u7ba1\u7406\u3082\u884c\u3044\u305f\u3044\u3068\u601d\u3063\u3066\u3044\u308b</td>\n      <td>\u5177\u4f53</td>\n    </tr>\n    <tr>\n      <th>333</th>\n      <td>\u3069\u306e\u30b7\u30b9\u30c6\u30e0\u3060\u3051\u5165\u308c\u304b\u3048\u308b\u306e\u304b</td>\n      <td>\u305d\u306e\u4ed62</td>\n    </tr>\n    <tr>\n      <th>1002</th>\n      <td>\u62c5\u5f53\u3068\u3044\u3044\u307e\u3057\u3066\u3082\u30e8\u30b7\u30ca\u30ea\u3068\u3044\u3046\u8005\u306b\u306a\u308a\u307e\u3057\u3066</td>\n      <td>\u305d\u306e\u4ed69</td>\n    </tr>\n    <tr>\n      <th>80</th>\n      <td>\u30b0\u30eb\u30fc\u30d7\u30a6\u30a7\u30a2\u4e0a\u306b\u305f\u3060\u30c9\u30ad\u30e5\u30e1\u30f3\u30c8\u3092\u653e\u308a\u8fbc\u3093\u3067\u3044\u308b\u3060\u3051\u306a\u306e\u3067\u7d50\u5c40\u3069\u3053\u306b\u4f55\u304c\u3042\u308b\u304b\u5206\u304b\u3089\u306a\u3044</td>\n      <td>\u5177\u4f53</td>\n    </tr>\n    <tr>\n      <th>75</th>\n      <td>\u30af\u30e9\u30a6\u30c9\u3060\u3063\u305f\u3089Office 365 GoogleApps\u3042\u305f\u308a\u306f\u8a71\u3068\u3057\u3066\u3042\u304c\u3063\u3066\u304f\u308b</td>\n      <td>\u5177\u4f53</td>\n    </tr>\n  </tbody>\n</table>\n</div>", 
                        "text/plain": "                                              \u30b5\u30f3\u30d7\u30eb\u6587 \u6b63\u89e3\u30af\u30e9\u30b9\n34            \u3069\u306ePC\u304c\u3069\u308c\u3060\u3051\u30c8\u30e9\u30d5\u30a3\u30c3\u30af\u3092\u4f7f\u3063\u3066\u3044\u308b\u306a\u3069\u306e\u7ba1\u7406\u3082\u884c\u3044\u305f\u3044\u3068\u601d\u3063\u3066\u3044\u308b    \u5177\u4f53\n333                                 \u3069\u306e\u30b7\u30b9\u30c6\u30e0\u3060\u3051\u5165\u308c\u304b\u3048\u308b\u306e\u304b  \u305d\u306e\u4ed62\n1002                        \u62c5\u5f53\u3068\u3044\u3044\u307e\u3057\u3066\u3082\u30e8\u30b7\u30ca\u30ea\u3068\u3044\u3046\u8005\u306b\u306a\u308a\u307e\u3057\u3066  \u305d\u306e\u4ed69\n80    \u30b0\u30eb\u30fc\u30d7\u30a6\u30a7\u30a2\u4e0a\u306b\u305f\u3060\u30c9\u30ad\u30e5\u30e1\u30f3\u30c8\u3092\u653e\u308a\u8fbc\u3093\u3067\u3044\u308b\u3060\u3051\u306a\u306e\u3067\u7d50\u5c40\u3069\u3053\u306b\u4f55\u304c\u3042\u308b\u304b\u5206\u304b\u3089\u306a\u3044    \u5177\u4f53\n75      \u30af\u30e9\u30a6\u30c9\u3060\u3063\u305f\u3089Office 365 GoogleApps\u3042\u305f\u308a\u306f\u8a71\u3068\u3057\u3066\u3042\u304c\u3063\u3066\u304f\u308b    \u5177\u4f53"
                    }, 
                    "output_type": "execute_result"
                }
            ], 
            "source": "df_test = pd.concat([X_test,T_test],axis=1) #axis=1\u306f\u6a2a\u65b9\u5411\u306e\u7d50\u5408\u3092\u6307\u5b9a\u3057\u307e\u3059\u3002\ndf_test.head()"
        }, 
        {
            "execution_count": 8, 
            "cell_type": "code", 
            "metadata": {}, 
            "outputs": [], 
            "source": "# The code was removed by DSX for sharing."
        }, 
        {
            "execution_count": 9, 
            "cell_type": "code", 
            "metadata": {}, 
            "outputs": [], 
            "source": "from watson_developer_cloud import NaturalLanguageClassifierV1\n\nnatural_language_classifier = NaturalLanguageClassifierV1(\n    username = credentials_nlc['username'],\n    password = credentials_nlc['password'])"
        }, 
        {
            "execution_count": 10, 
            "cell_type": "code", 
            "metadata": {}, 
            "outputs": [], 
            "source": "natural_language_classifier.set_default_headers({'x-watson-learning-opt-out': \"true\"})"
        }, 
        {
            "execution_count": 11, 
            "cell_type": "code", 
            "metadata": {}, 
            "outputs": [], 
            "source": "def create_classifier(mode):\n    # fetch all classifiers associated with the NLC instance\n    result = natural_language_classifier.list_classifiers()\n    # for the purposes of this demo, we handle only one classifier\n    # return the first one found\n    if mode == \"list\":\n        if len(result['classifiers']) > 0:\n            return result['classifiers']\n        else:\n            return {\"error\": \"\u30af\u30e9\u30b9\u3092\u4f5c\u6210\u3057\u3066\u304f\u3060\u3055\u3044\"}\n    if mode == \"add\":\n        print ('creating class ...')\n        # if none found, create a new classifier, change this value\n        with open(DATA_SET, 'rb') as training_data:\n            metadata = '{\"name\": \"abs_conc_class\", \"language\": \"ja\"}'\n            classifier = natural_language_classifier.create_classifier(\n                metadata=metadata,\n                training_data=training_data\n            )\n        return classifier"
        }, 
        {
            "execution_count": 17, 
            "cell_type": "code", 
            "metadata": {}, 
            "outputs": [
                {
                    "execution_count": 17, 
                    "metadata": {}, 
                    "data": {
                        "text/plain": "{'error': '\u30af\u30e9\u30b9\u3092\u4f5c\u6210\u3057\u3066\u304f\u3060\u3055\u3044'}"
                    }, 
                    "output_type": "execute_result"
                }
            ], 
            "source": "create_classifier('list')"
        }, 
        {
            "source": "### \u30af\u30e9\u30b9\u306e\u4f5c\u6210", 
            "cell_type": "markdown", 
            "metadata": {}
        }, 
        {
            "execution_count": 18, 
            "cell_type": "code", 
            "metadata": {}, 
            "outputs": [
                {
                    "output_type": "stream", 
                    "name": "stdout", 
                    "text": "creating class ...\n"
                }, 
                {
                    "execution_count": 18, 
                    "metadata": {}, 
                    "data": {
                        "text/plain": "{'classifier_id': 'ea433fx368-nlc-917',\n 'created': '2018-05-03T14:20:17.147Z',\n 'language': 'ja',\n 'name': 'abs_conc_class',\n 'status': 'Training',\n 'status_description': 'The classifier instance is in its training phase, not yet ready to accept classify requests',\n 'url': 'https://gateway.watsonplatform.net/natural-language-classifier/api/v1/classifiers/ea433fx368-nlc-917'}"
                    }, 
                    "output_type": "execute_result"
                }
            ], 
            "source": "myclass = create_classifier('add')\nmyclass"
        }, 
        {
            "source": "### \u30af\u30e9\u30b9\u304c\u4f7f\u3048\u308b\u72b6\u614b\u304b\u306e\u30c1\u30a7\u30c3\u30af", 
            "cell_type": "markdown", 
            "metadata": {}
        }, 
        {
            "execution_count": 19, 
            "cell_type": "code", 
            "metadata": {}, 
            "outputs": [
                {
                    "output_type": "stream", 
                    "name": "stdout", 
                    "text": "\u307e\u3060\u3060\u3088...  2018/05/03 23:20:23\n\u307e\u3060\u3060\u3088...  2018/05/03 23:21:30\n\u307e\u3060\u3060\u3088...  2018/05/03 23:22:30\n\u307e\u3060\u3060\u3088...  2018/05/03 23:23:31\n\u307e\u3060\u3060\u3088...  2018/05/03 23:24:31\n\u307e\u3060\u3060\u3088...  2018/05/03 23:25:31\n\u307e\u3060\u3060\u3088...  2018/05/03 23:26:31\n\u307e\u3060\u3060\u3088...  2018/05/03 23:27:31\n\u307e\u3060\u3060\u3088...  2018/05/03 23:28:32\n\u307e\u3060\u3060\u3088...  2018/05/03 23:29:32\n\u307e\u3060\u3060\u3088...  2018/05/03 23:30:32\n\u307e\u3060\u3060\u3088...  2018/05/03 23:31:32\n\u307e\u3060\u3060\u3088...  2018/05/03 23:32:33\n\u307e\u3060\u3060\u3088...  2018/05/03 23:33:33\n\u307e\u3060\u3060\u3088...  2018/05/03 23:34:33\n\u3067\u304d\u305f\u3088!!! \u6b21\u306b\u9032\u3081 ...\n"
                }
            ], 
            "source": "from time import sleep\nfrom datetime import datetime, timezone, timedelta\n\nJST = timezone(timedelta(hours=+9), 'JST')\n#CID='e998c1x363-nlc-976' #\u4e0a\u8a18 classifier_id\u3092\u30bb\u30c3\u30c8\u3059\u308b\nCID=myclass[\"classifier_id\"]\n\nwhile True:\n    status = natural_language_classifier.get_classifier(CID)\n    if status[\"status\"] == \"Available\":\n        print ('\u3067\u304d\u305f\u3088!!! \u6b21\u306b\u9032\u3081 ...')\n        break\n    else:\n        print ('\u307e\u3060\u3060\u3088... ', datetime.now(JST).strftime(\"%Y/%m/%d %H:%M:%S\"))\n        sleep(60)"
        }, 
        {
            "source": "### \u30c6\u30b9\u30c8\u30c7\u30fc\u30bf\u3067\u30af\u30e9\u30b9\u3092\u8a55\u4fa1\u3059\u308b", 
            "cell_type": "markdown", 
            "metadata": {}
        }, 
        {
            "execution_count": null, 
            "cell_type": "code", 
            "metadata": {}, 
            "outputs": [
                {
                    "output_type": "stream", 
                    "name": "stdout", 
                    "text": "START...  2018/05/03 23:36:38\n[ True]   \u5177\u4f53(0.98) << (\u5177\u4f53) \u3069\u306ePC\u304c\u3069\u308c\u3060\u3051\u30c8\u30e9\u30d5\u30a3\u30c3\u30af\u3092\u4f7f\u3063\u3066\u3044\u308b\u306a\u3069\u306e\u7ba1\u7406\u3082\u884c\u3044\u305f\u3044\u3068\u601d\u3063\u3066\u3044\u308b >>\n[ True] \u305d\u306e\u4ed610(0.88) << (\u305d\u306e\u4ed62) \u3069\u306e\u30b7\u30b9\u30c6\u30e0\u3060\u3051\u5165\u308c\u304b\u3048\u308b\u306e\u304b >>\n[ True] \u305d\u306e\u4ed64(0.24) << (\u305d\u306e\u4ed69) \u62c5\u5f53\u3068\u3044\u3044\u307e\u3057\u3066\u3082\u30e8\u30b7\u30ca\u30ea\u3068\u3044\u3046\u8005\u306b\u306a\u308a\u307e\u3057\u3066 >>\n[ True]   \u5177\u4f53(0.99) << (\u5177\u4f53) \u30b0\u30eb\u30fc\u30d7\u30a6\u30a7\u30a2\u4e0a\u306b\u305f\u3060\u30c9\u30ad\u30e5\u30e1\u30f3\u30c8\u3092\u653e\u308a\u8fbc\u3093\u3067\u3044\u308b\u3060\u3051\u306a\u306e\u3067\u7d50\u5c40\u3069\u3053\u306b\u4f55\u304c\u3042\u308b\u304b\u5206\u304b\u3089\u306a\u3044 >>\n[ True]   \u5177\u4f53(0.97) << (\u5177\u4f53) \u30af\u30e9\u30a6\u30c9\u3060\u3063\u305f\u3089Office 365 GoogleApps\u3042\u305f\u308a\u306f\u8a71\u3068\u3057\u3066\u3042\u304c\u3063\u3066\u304f\u308b >>\n[ True] \u305d\u306e\u4ed63(0.93) << (\u305d\u306e\u4ed61) \u30ea\u30a2\u30eb\u30bf\u30a4\u30e0\u3067\u3068\u304b\u3063\u3066\u3044\u3046\u3053\u3068\u3092\u975e\u5e38\u306b\u304a\u3063\u3057\u3083\u3089\u308c\u308b\u3093\u3067\u3059\u3051\u3069 >>\n[ True]   \u62bd\u8c61(0.73) << (\u62bd\u8c61) \u3061\u3087\u3063\u3068\u4e88\u7b97\u304c\u72c2\u3063\u305f >>\n[ True] \u305d\u306e\u4ed69(0.35) << (\u305d\u306e\u4ed65) \u3042\u3068\u305d\u306e\u97f3\u58f0\u304b\u3089\u30c6\u30ad\u30b9\u30c8\u8d77\u3053\u3057\u3066\u305d\u308c\u3092\uff21\uff29\u3067\u304f\u3063\u3066\u304f\u3068\u304b\u3067\u3059\u306d >>\n[ True] \u305d\u306e\u4ed68(0.48) << (\u305d\u306e\u4ed65) \u3069\u3053\u307e\u3067\u4f55\u3092\u3084\u3063\u3066\u304f\u308c\u308b\u304b\u306b\u3088\u308b\u3068\u601d\u3046\u3093\u3067\u3059\u3088 >>\n[ True] \u305d\u306e\u4ed65(0.86) << (\u305d\u306e\u4ed62) \u666e\u6bb5\u4f7f\u3063\u3066\u3044\u306a\u3044\u4e2d\u65ec\u3068\u304b\u6708\u306e\u9014\u4e2d\u3068\u304b\u3063\u3066\u3044\u3046\u3068\u304d\u306b\u306f >>\n[ True] \u305d\u306e\u4ed63(0.82) << (\u305d\u306e\u4ed63) \u3082\u3046\u4e00\u5fdc\u6765\u671f\u306e\u4e88\u7b97\u3063\u3066\u3082\u3046\u307b\u307c\u56fa\u307e\u3063\u3066\u304d\u3066\u308b\u6bb5\u968e\u306a\u3093\u3067 >>\n[ True] \u305d\u306e\u4ed65(0.44) << (\u305d\u306e\u4ed65) \u3053\u306e\u4eba\u4e00\u4eba\u3063\u3066\u3044\u3046\u306e\u304c\u306a\u3044\u306e\u3067 >>\n[ True] \u305d\u306e\u4ed63(0.50) << (\u305d\u306e\u4ed66) \u76e3\u8996\u3068\u304b\u3069\u3046\u3044\u3046\u3075\u3046\u306b\u3057\u3066\u304f\u308c\u308b\u306e\u304b\u3063\u3066\u3044\u3046\u306e\u306f >>\n[ True] \u305d\u306e\u4ed610(0.90) << (\u305d\u306e\u4ed610) \u30e1\u30fc\u30eb\u3067\u3059\u3068\u304b\u307e\u305f\u304a\u96fb\u8a71\u3067\u3059\u3068\u304b\u3067\uff0a\uff0a\uff0a >>\n[ True] \u305d\u306e\u4ed610(0.49) << (\u305d\u306e\u4ed62) \uff11\uff16\u304c\u51fa\u308b\u3061\u3087\u3046\u3069\u524d\u3050\u3089\u3044\u3060\u3063\u305f\u3093\u3067 >>\n[ True] \u305d\u306e\u4ed61(0.65) << (\u305d\u306e\u4ed64) \u305d\u3046\u3044\u3046\u610f\u5473\u3067\u3059\u3068\u307e\u3060\u5b9f\u969b\u306b\u3069\u3053\u306e\u3069\u3061\u3089\u306e >>\n[ True] \u305d\u306e\u4ed63(0.76) << (\u305d\u306e\u4ed65) \u30de\u30a4\u30af\u30ed\u30bd\u30d5\u30c8\uff13\uff16\uff15\uff22\uff55\uff53\uff49\uff4e\uff45\uff53\uff53\u306f\u53ef\u80fd\u306a\u3093\u3067\u3059\u304b >>\n[ True] \u305d\u306e\u4ed66(0.70) << (\u305d\u306e\u4ed65) \u3044\u308d\u3044\u308d\u306a\u904e\u53bb\u304b\u3089\u306e\u3084\u3064\u3092\u3067\u3059\u306d >>\n[ True] \u305d\u306e\u4ed69(0.37) << (\u305d\u306e\u4ed64) \u3044\u3056\u4f7f\u304a\u3046\u3068\u601d\u3046\u3068\uff37\uff49\uff4e\uff44\uff4f\uff57\uff53\u30a2\u30c3\u30d7\u30c7\u30fc\u30c8\u304c\u59cb\u307e\u3063\u3061\u3083\u3063\u3066 >>\n[ True] \u305d\u306e\u4ed68(0.61) << (\u305d\u306e\u4ed66) \u306a\u306e\u3067\u305d\u308c\u3092\u518d\u5ea6\u30a2\u30ab\u30a6\u30f3\u30c8\u3064\u304f\u3063\u3066 >>\n[False]   \u62bd\u8c61(0.95) << (\u305d\u306e\u4ed69) \u4eca\u305d\u3093\u306a\u6d41\u308c\u3067\u6e96\u5099\u3092\u9032\u3081\u3066\u3044\u308b\u3068\u3053\u308d\u3067\u306f\u3042\u308a\u307e\u3059 >>\n[ True] \u305d\u306e\u4ed67(0.98) << (\u305d\u306e\u4ed63) \u8ffd\u52a0\u3063\u3066\u3044\u3046\u30dc\u30bf\u30f3\u304c\u51fa\u3066\u304f\u308b\u306e\u3067 >>\n[ True] \u305d\u306e\u4ed68(0.95) << (\u305d\u306e\u4ed69) \u30b9\u30fc\u30d1\u30fc\u30b9\u30c8\u30ea\u30fc\u30e0\u3067\u3044\u304f\u4e88\u5b9a\u3067\u3057\u305f\u306d >>\n[ True] \u305d\u306e\u4ed68(0.49) << (\u305d\u306e\u4ed64) \u591a\u5206\uff2a\uff33\uff2f\uff23\u304b\u306a\u3093\u304b\u3067\u7d76\u5bfe\u3072\u3063\u304b\u304b\u308a\u307e\u3059\u3093\u3067\u3053\u3093\u306a\u306e\u306d >>\n[ True] \u305d\u306e\u4ed64(0.44) << (\u305d\u306e\u4ed61) \uff12\uff10\uff11\uff12\u306b\u3059\u308b\u3068\u304d\u306b\u3061\u3087\u3063\u3068\u591a\u5206\u65e2\u5b58\u306e\u74b0\u5883\u3082\u6b8b\u3057\u3064\u3064\uff12\uff10\uff11\uff12\u3082\u8db3\u3055\u306a\u304d\u3083\u3044\u3051\u306a\u3044\u306e\u3067 >>\n[ True] \u305d\u306e\u4ed63(0.79) << (\u305d\u306e\u4ed65) \u57fa\u672c\u7684\u306b\u306f\u88fd\u54c1\u306b\u306f\u3088\u308b\u304b\u3068\u601d\u3046\u3093\u3067\u3059\u3051\u3069 >>\n[ True] \u305d\u306e\u4ed64(0.81) << (\u305d\u306e\u4ed66) \u305d\u3046\u3044\u3063\u305f\u8868\u3092\u3064\u304f\u308b\u90e8\u5206\u3067\u306e\u30e9\u30a4\u30bb\u30f3\u30b9\u3068\u304b\u53c2\u7167\u3059\u308b\u30e9\u30a4\u30bb\u30f3\u30b9\u3068\u304b\u3042\u308b\u304b\u3068\u601d\u3044\u307e\u3059\u306e\u3067 >>\n[ True]   \u62bd\u8c61(0.91) << (\u62bd\u8c61) \u898b\u7a4d\u3082\u308a\u4e0a\u306f\u672c\u898b\u7a4d\u3058\u3083\u306a\u3044\u306e\u3067\u3053\u306e\u5f8c\u3068\u3046\u306a\u308b\u304b\u306f\u4f55\u3068\u3082\u8a00\u3048\u306a\u3044 >>\n[ True] \u305d\u306e\u4ed610(0.56) << (\u305d\u306e\u4ed68) \u983c\u3093\u3067\u3044\u308b\u30b7\u30b9\u30c6\u30e0\u4f1a\u793e\u69d8\u304c\u3054\u3056\u3044\u307e\u3057\u3066 >>\n[False] \u305d\u306e\u4ed63(0.93) << (\u5177\u4f53) \u65e5\u3005\u306e\u62c5\u5f53\u8005\u304c\u5165\u529b\u3059\u308c\u3070\u30ea\u30a2\u30eb\u30bf\u30a4\u30e0\u3067\u898b\u308c\u308b\u3063\u3066\u3044\u3046\u30b7\u30b9\u30c6\u30e0\u306a\u3093\u3067\u3059\u3051\u3069 >>\n[ True] \u305d\u306e\u4ed65(0.61) << (\u305d\u306e\u4ed63) \u30aa\u30f3\u30d7\u30ec\u3067\u3042\u3063\u305f\u3082\u306e\u3092\u79fb\u884c\u3057\u305f\u306e\u3067 >>\n[ True] \u305d\u306e\u4ed64(0.40) << (\u305d\u306e\u4ed62) \u78ba\u5b9a\u53d7\u6ce8\u306f\u3061\u3087\u3063\u3068\u5225\u306e\u4ed5\u7d44\u307f\u304b\u3089\u901a\u3057\u3066\u3044\u3066 >>\n[ True] \u305d\u306e\u4ed610(0.35) << (\u305d\u306e\u4ed69) \u307e\u3042\u3044\u308d\u3093\u306a\u88fd\u9020\u95a2\u4fc2\u3067\u3084\u3063\u3066\u308b >>\n[ True] \u305d\u306e\u4ed62(0.84) << (\u305d\u306e\u4ed69) \u3053\u308c\u307e\u3067\u306e\u30b7\u30b9\u30c6\u30e0\u306e\u5168\u3066\u3092\u8f09\u3063\u3051\u307e\u3059\u3088\u3068\u304b\u3063\u3066\u3044\u3046\u304a\u8a71\u306b\u306f\u4eca\u306e\u3068\u3053\u308d\u5168\u304f\u306a\u3063\u3066\u307e\u305b\u3093\u306e\u3067 >>\n[False]   \u5177\u4f53(0.42) << (\u305d\u306e\u4ed64) \u3055\u3063\u304d\u3082\u8a00\u3063\u305f\u3088\u3046\u306b\u6301\u3063\u3066\u308b\u3082\u306e\u304c\u4f7f\u3048\u308b\u306e\u304b\u3069\u3046\u304b >>\n[ True] \u305d\u306e\u4ed69(0.87) << (\u305d\u306e\u4ed66) \u30d5\u30b8\u30e2\u30ea\u5de5\u696d\uff08\uff1f\uff09\u306e\u4e2d\u3067\u306f\uff12\uff10\uff11\uff10\u306b\u3067\u3059\u306d >>\n[ True]   \u5177\u4f53(0.98) << (\u5177\u4f53) \u69cb\u7bc9\u3068\u304b\u4ed6\u306f\u516b\u6708\u3050\u3089\u3044\u3067\u3059 >>\n[ True] \u305d\u306e\u4ed69(0.97) << (\u305d\u306e\u4ed61) \uff22\uff55\uff53\uff49\uff4e\uff45\uff53\uff53\uff30\uff52\uff45\uff4d\uff49\uff55\uff4d >>\n[ True] \u305d\u306e\u4ed64(0.45) << (\u305d\u306e\u4ed65) \u3082\u3057\u5b9f\u969b\u691c\u8a0e\u3059\u308b\u3053\u3068\u306b\u306a\u3063\u305f\u3089\u4e00\u5fdc\u305d\u3046\u3044\u3063\u305f\u3068\u3053\u308d\u3092 >>\n[ True] \u305d\u306e\u4ed67(0.98) << (\u305d\u306e\u4ed68) \u3082\u3046\uff0a\uff0a\uff0a\u4f9d\u983c\u3059\u308b\u3063\u3066\u3053\u3068\u306f\u554f\u984c\u306f\u306a\u3044\u3063\u3066\u3044\u3046\u3053\u3068\u3067\u3088\u308d\u3057\u3044\u3067\u3059\u304b >>\n[ True]   \u62bd\u8c61(0.92) << (\u62bd\u8c61) \u4f55\u304b\u3089\u624b\u3092\u3064\u3051\u3066\u3044\u3053\u3046\u304b\u306a\u3068\u3044\u3046\u3068\u3053\u308d\u3067\u3059\u304c >>\n[False]   \u62bd\u8c61(0.89) << (\u305d\u306e\u4ed68) \u91d1\u984d\u7684\u306b\u306f\u767e\u3092\u3068\u3089\u308c\u308b\u3093\u3058\u3083\u306a\u3044\u3067\u3059\u304b >>\n[ True] \u305d\u306e\u4ed61(0.89) << (\u305d\u306e\u4ed61) \uff33\uff4b\uff59\uff50\uff45\u3082\u4f7f\u3044\u305f\u3044\u4eba\u3060\u3051\u3068\u3044\u3046\u3088\u3046\u306a\u611f\u3058\u306e\u304a\u5ba2\u69d8\u304c\u307e\u3060\u591a\u304f\u3066\u3067\u3059\u306d >>\n[ True] \u305d\u306e\u4ed65(0.53) << (\u305d\u306e\u4ed64) \u8996\u91ce\u3092\u5e83\u3052\u3066\u3082\u3089\u3046\u305f\u3081\u306b\u884c\u3063\u3066\u3082\u3089\u3063\u305f\u308a\u306f\u3057\u3066\u307e\u3059\u3051\u308c\u3069\u3082\u306d >>\n[ True] \u305d\u306e\u4ed64(0.52) << (\u305d\u306e\u4ed68) \u30b5\u30fc\u30d0\u30fc\u306f\u6700\u8fd1\u6025\u306b\u3068\u307e\u308b\u3088\u3046\u306b\u306a\u3063\u3066\u3057\u307e\u3063\u3066 >>\n[ True] \u305d\u306e\u4ed610(0.71) << (\u305d\u306e\u4ed65) \u30ad\u30e3\u30f3\u30d1\u30b9\u306e\u4e2d\u3060\u3051\u3067\u3061\u3087\u3053\u3061\u3087\u3053\u3063\u3068\u3084\u3063\u3061\u3083\u3046\u5834\u5408\u3068\u4e8c\u3064\u3042\u308b\u306e\u3067 >>\n[ True]   \u62bd\u8c61(0.79) << (\u62bd\u8c61) \u305d\u306e\u8fba\u306f\u3069\u3046\u3044\u3046\u3075\u3046\u306b\u8ee2\u3076\u304b\u308f\u304b\u3089\u306a\u3044 >>\n[ True] \u305d\u306e\u4ed68(0.89) << (\u305d\u306e\u4ed62) \u3042\u308b\u3082\u306e\u3092\u6d3b\u7528\u3059\u308b\u3068\u304d\u306b\u305d\u306e\u4eca\u306e\u30a4\u30f3\u30d7\u30c3\u30c8\u3067\u306f\u3053\u3046\u3044\u3046\u6761\u4ef6\u304c\u8db3\u308a\u306a\u3044\u306d\u3068\u304b >>\n[False]   \u62bd\u8c61(0.54) << (\u305d\u306e\u4ed610) \u5225\u306b\u5bb6\u3058\u3083\u306a\u304f\u3066\u3082\u3044\u3044\u3060\u308d\u3046\u3063\u3066\u3044\u3046\u3068\u3053\u308d\u3067 >>\n[ True] \u305d\u306e\u4ed68(0.72) << (\u305d\u306e\u4ed610) \u30ed\u30fc\u30c6\u30fc\u30b7\u30e7\u30f3\u3061\u3087\u3063\u3068\u3057\u3088\u3046\u304b\u306a\u3068\u304b >>\n[ True]   \u5177\u4f53(0.70) << (\u5177\u4f53) BI\u306e\u30c7\u30fc\u30bf\u30a6\u30a7\u30a2\u30cf\u30a6\u30b9\u306e\u6a5f\u80fd\u304c\u3069\u308c\u3060\u3051\u30b7\u30f3\u30d7\u30eb\u306b\u3067\u304d\u308b\u306e\u304b >>\n[ True] \u305d\u306e\u4ed68(0.70) << (\u305d\u306e\u4ed64) \u30d1\u30bf\u30fc\u30f3\u5316\u3057\u3066\u6574\u7406\u3057\u3066\u3044\u304f\u306e\u304b\u3063\u3066\u3044\u3046\u306e\u3084\u3063\u3071\u308a\uff21\uff29\u3067\u305d\u3053\u3092\u3084\u308c\u308b\u3068\u52b9\u7387\u4e0a\u304c\u308b\u3088\u306a\u3068\u306f\u601d\u3063\u3066\u307e\u3059\u3051\u3069\u306d >>\n[ True] \u305d\u306e\u4ed62(0.81) << (\u305d\u306e\u4ed61) \u3061\u3087\u3063\u3068\u307b\u304b\u306e\u5927\u5b66\u3055\u3093\u306b\u3088\u3063\u3066\u306f\u7121\u7dda\u3082\u4e00\u7dd2\u306b\u3084\u3063\u3066\u308b\u3068\u3044\u3046\u3068\u3053\u308d\u304c\u3042\u308b\u3068\u306f\u601d\u3046\u3093\u3067\u3059\u3051\u3069 >>\n[ True] \u305d\u306e\u4ed61(0.38) << (\u305d\u306e\u4ed61) \u4f55\u304b\u554f\u3044\u5408\u308f\u305b\u4f55\u56de\u307e\u3067\u3067\u305d\u308c\u4ee5\u964d\u306f\u6709\u511f\u3067\u3059\u3068\u304b\u3063\u3066\u3044\u3046 >>\n[ True] \u305d\u306e\u4ed67(0.94) << (\u305d\u306e\u4ed68) \u3068\u308a\u3042\u3048\u305a\u306f\u751f\u7523\u7ba1\u7406\u306e\u30b7\u30b9\u30c6\u30e0\u3069\u3046\u3057\u3088\u3046\u304b\u3063\u3066\u3044\u3046\u3068\u3053\u308d\u304c >>\n[ True]   \u5177\u4f53(0.72) << (\u5177\u4f53) \u539f\u6599\u4fa1\u683c\u304c\u65e5\u3005\u3069\u3093\u3069\u3093\u5909\u308f\u308b\u306e\u3067\u8a08\u7b97\u3057\u3066\u3044\u304b\u306a\u3044\u3068\u4fa1\u683c\u306e\u5909\u52d5\u306b\u3064\u3044\u3066\u3044\u3051\u306a\u304f\u306a\u308b >>\n[ True] \u305d\u306e\u4ed63(0.73) << (\u305d\u306e\u4ed66) \uff2d\uff30\uff33\uff21\u3067\u8cb7\u3063\u305f\u5834\u5408\u4e09\u5e74\u306e\u5207\u308c\u76ee\u306e\u3068\u3053\u308d\u3067\u4e57\u308a\u304b\u3048\u308b\u5fc5\u8981\u304c\u3042\u308b\u3063\u3066\u3053\u3068\u3067\u3059\u3088\u306d >>\n[ True]   \u5177\u4f53(0.85) << (\u5177\u4f53) \u6b21\u306eOracleDB\u3092\u4eca\u96c6\u7d04\u3057\u306a\u304c\u3089\u4f7f\u3063\u3066\u3044\u308b >>\n[False] \u305d\u306e\u4ed62(0.59) << (\u5177\u4f53) \u30b5\u30a4\u30dc\u30a6\u30ba\u30ac\u30eb\u30fc\u30f3\u4f7f\u3063\u3066\u3044\u307e\u3059\u306d >>\n[ True] \u305d\u306e\u4ed64(0.51) << (\u305d\u306e\u4ed62) \u305d\u308c\u3044\u3064\u304b\u3089\u3067\u304d\u308b\u3088\u3046\u306b\u306a\u308a\u307e\u3057\u305f >>\n[ True] \u305d\u306e\u4ed65(0.35) << (\u305d\u306e\u4ed64) \u305f\u3060\u7d71\u5408\u3057\u305f\u3068\u304d\u306b\u307b\u304b\u306e\u30b7\u30b9\u30c6\u30e0\u3068\u304b\u3068\u306e\u9023\u643a\u3068\u304b\u3082\u3042\u3063\u3066 >>\n[ True] \u305d\u306e\u4ed68(0.29) << (\u305d\u306e\u4ed65) \u3082\u3057\u304f\u306f\u4eca\u3084\u3063\u3066\u3044\u308b\u696d\u52d9\u3092\u7f6e\u304d\u304b\u3048\u308b\u3053\u3068\u3067\u30d7\u30e9\u30b9\u306e\u8ca0\u8377\u306f\u305d\u308c\u307b\u3069\u304b\u3051\u306a\u3044\u3067\u4f55\u304b\u304c\u5b9f\u73fe\u3067\u304d\u308b\u3088\u3046\u306b\u3059\u308b\u3063\u3066\u3044\u3046 >>\n[ True] \u305d\u306e\u4ed65(0.93) << (\u305d\u306e\u4ed63) \u3042\u3068\u79c1\u306a\u3093\u304b\u304c\u8a08\u4e0a\u3057\u3066\u3044\u308b\uff08\uff1f\uff09\u30a4\u30f3\u30d5\u30e9\u5468\u308a\u3068\u304b\u3063\u3066\u3044\u3046\u306e\u306f >>\n[ True] \u305d\u306e\u4ed64(0.43) << (\u305d\u306e\u4ed62) \u3061\u306a\u307f\u306b\u3053\u308c\u6df7\u5728\uff08\uff1f\uff09\u3063\u3066\u3042\u308a\u3067\u3059\u304b >>\n[ True] \u305d\u306e\u4ed66(0.76) << (\u305d\u306e\u4ed610) \u8a71\u3092\u805e\u3044\u3066\u304f\u308c\u308b\u3068\u601d\u3046\u3093\u3067\u3059\u3051\u3069 >>\n[ True] \u305d\u306e\u4ed66(0.65) << (\u305d\u306e\u4ed64) \u8efd\u6e1b\u7a0e\u7387\u3084\u3081\u3066\u304f\u308c\u308a\u3083\u3042\u4e00\u756a\u3048\u3048\u3093\u3067\u3059\u3051\u3069 >>\n[ True] \u305d\u306e\u4ed67(0.27) << (\u305d\u306e\u4ed63) \u5927\u7269\u306e\uff08\uff1f\uff09\u8a55\u4fa1\u304c\u3048\u4e00\u901a\u308a\u7d42\u308f\u3063\u3066\u3057\u307e\u3063\u305f\u306e\u3067 >>\n[ True]   \u5177\u4f53(0.97) << (\u5177\u4f53) \u6587\u66f8\u3092\u9001\u308b\u6642\u306b\u306f\u30d1\u30b9\u30ef\u30fc\u30c9\u3092\u304b\u3051\u3066\u9001\u3089\u306a\u3044\u3068\u3044\u3051\u306a\u3044\u3088\u3046\u306b\u3057\u3066\u3044\u308b >>\n[ True] \u305d\u306e\u4ed65(0.80) << (\u305d\u306e\u4ed67) \u30e6\u30cb\u30b7\u30b9\u3055\u3093\u3068\u65e5\u7acb\u3055\u3093\u304c\u5354\u696d\u3057\u3066\u308b\u3068\u3044\u3046\u304b\u4f55\u304b >>\n[ True] \u305d\u306e\u4ed61(0.61) << (\u305d\u306e\u4ed69) \uff21\uff29\uff38\u3067\u5272\u3068\u5b89\u5b9a\u3057\u3066\u7a3c\u50cd\u306f\u3057\u3066\u3044\u307e\u3059\u3057 >>\n[ True] \u305d\u306e\u4ed64(0.93) << (\u305d\u306e\u4ed610) \u6291\u3048\u308c\u308c\u3070\u6291\u3048\u3089\u308c\u308b\u307b\u3069\u3044\u3044\u3067\u3059\u3051\u3069 >>\n[ True] \u305d\u306e\u4ed66(0.54) << (\u305d\u306e\u4ed67) \u5404\u3070\u3089\u3070\u3089\u3067\u4eca\u898b\u3061\u3083\u3063\u3066\u3044\u308b\u306e\u3067 >>\n[ True] \u305d\u306e\u4ed63(0.63) << (\u305d\u306e\u4ed61) \u305d\u308c\u306b\u5411\u3051\u3066\u306e\u4f5c\u696d\u306b\u3082\u3068\u308a\u304b\u304b\u3063\u3066\u3044\u308b\u306e\u3067 >>\n[False]   \u62bd\u8c61(0.84) << (\u305d\u306e\u4ed64) \u3082\u3057\u30ea\u30d7\u30ec\u30fc\u30b9\u3059\u308b\u3053\u3068\u306b\u306a\u3063\u305f\u3089\u305d\u306e\uff22\uff29\u90e8\u5206\u306b\u3064\u3044\u3066\u3082\u3069\u3046\u3059\u308b\u304b\u3063\u3066\u3044\u3046\u8a71\u306f\u51fa\u3066\u304f\u308b\u3068\u601d\u3044\u307e\u3059 >>\n[ True] \u305d\u306e\u4ed64(0.29) << (\u305d\u306e\u4ed66) \u3067\u304d\u308c\u3070\u5916\u51fa\u3057\u306b\u3067\u304d\u308b\u306e\u304c\u4e00\u756a\u3044\u3044\u3093\u3067\u3059\u3051\u3069 >>\n[ True] \u305d\u306e\u4ed66(0.34) << (\u305d\u306e\u4ed68) \u7d50\u69cb\u6700\u8fd1\u5b89\u4fa1\u306b\u306a\u3063\u3066\u304d\u3066\u305f\u308a\u3059\u308b\u3093\u3067 >>\n[ True] \u305d\u306e\u4ed66(0.31) << (\u305d\u306e\u4ed64) \u30ea\u30e2\u30fc\u30c8\u30c7\u30b9\u30af\u30c8\u30c3\u30d7\uff08\uff1f\uff09\u3067\u691c\u8a3c\u3057\u3066\u3044\u308b\u90e8\u5206\u306f\u3084\u3063\u3066\u3044\u308b\u3093\u3067\u3059\u3051\u3069\u306d >>\n[ True]   \u62bd\u8c61(0.93) << (\u62bd\u8c61) \u30af\u30e9\u30a6\u30c9\u3060\u3063\u305f\u3089\u305d\u3053\u306f\u671f\u5f85\u3057\u305f\u3044\u3068\u3053\u308d\u3067\u3059 >>\n[ True] \u305d\u306e\u4ed610(0.62) << (\u305d\u306e\u4ed63) \u3044\u3048\u3069\u3063\u3061\u304b\u3068\u3044\u3046\u3068\u793e\u5185\u306e\u90fd\u5408\u3067\u3059\u306d >>\n[ True]   \u62bd\u8c61(0.98) << (\u62bd\u8c61) \u7f6e\u304d\u571f\u7523\u7684\u306b\u30aa\u30fc\u30d7\u30f3\u5316\u3057\u3066\u3044\u3053\u3046\u304b\u3068\u601d\u3063\u305f\u3093\u3060\u3051\u3069\u7121\u7406\u304c\u3042\u308b\u304b\u306a\u3068\u601d\u3063\u3066 >>\n[ True] \u305d\u306e\u4ed69(0.58) << (\u305d\u306e\u4ed65) \u3046\u30fc\u3093\u3061\u3087\u3063\u3068\u3069\u3046\u3057\u3066\u3082\u793e\u5185\u306e\u305d\u3046\u3044\u3046\u30a2\u30af\u30bb\u30b9\u3060\u306e >>\n[ True] \u305d\u306e\u4ed63(0.81) << (\u305d\u306e\u4ed64) \u3060\u304b\u3089\u65b0\u4f53\u5236\u306b\u306a\u3063\u3066\u5165\u308c\u304b\u3048\u3092\u8fce\u3048\u308b\u3063\u3066\u3044\u3046\u306e\u304c\u4eca\u56de\u521d\u3081\u3066\u306b\u306a\u308b\u3093\u3067\u3059\u3051\u3069 >>\n[ True] \u305d\u306e\u4ed62(0.42) << (\u305d\u306e\u4ed610) \u30ad\u30e3\u30ce\u30f3\u3055\u3093\u3068\u53d6\u5f15\u3042\u308b\u3093\u3067\u30ad\u30e3\u30ce\u30f3\u3055\u3093\u3053\u3046\u3044\u3046\u8a71\u304c\u3042\u308b\u3093\u3060\u3051\u3069\u3069\u3063\u304b\u9023\u308c\u3066\u304d\u3066\u304f\u308c\u3093\u8a00\u3046\u305f\u3089 >>\n[ True] \u305d\u306e\u4ed61(0.43) << (\u305d\u306e\u4ed69) \u30c7\u30fc\u30bf\u3068\u3044\u3044\u307e\u3059\u304b\u305d\u306e\u6570\u5024\u3068\u304b\u305d\u3046\u3044\u3063\u305f\u90e8\u5206\u3067\u306f\u306a\u304f >>\n[ True] \u305d\u306e\u4ed61(0.36) << (\u305d\u306e\u4ed66) \u3084\u3063\u3071\u308a\u4e94\u5343\u4e07\u3050\u3089\u3044\u304b\u304b\u308b\u3063\u3066\u3044\u3046\u3053\u3068\u306b\u306a\u308b\u3068\u306d >>\n[False] \u305d\u306e\u4ed63(0.56) << (\u62bd\u8c61) \u305d\u3046\u3044\u3046\u5834\u5408\u306f\u591a\u5206\u9055\u3046\u4f1a\u793e\u306b\u306a\u3063\u3066\u3082\u4e0d\u601d\u8b70\u3067\u306f\u306a\u3044 >>\n[ True] \u305d\u306e\u4ed67(0.92) << (\u305d\u306e\u4ed68) \u305d\u308c\u306f\u30e1\u30ad\u30b7\u30b3\u793e\u3068\u3057\u3066\u5951\u7d04\u3059\u308c\u3070\u3044\u3044\u3093\u3067\u3059\u3088\u306d >>\n[ True] \u305d\u306e\u4ed65(0.45) << (\u305d\u306e\u4ed63) \u30bd\u30d5\u30c8\u5165\u308c\u308b\u6bb5\u968e\u3067\u4e00\u7dd2\u306b\u3067\u304d\u3078\u3093\u304b\u306a\u3068\u3044\u3046\u3068\u3053\u308d\u3082\u3042\u308f\u3057\u3066 >>\n[ True] \u305d\u306e\u4ed64(0.48) << (\u305d\u306e\u4ed64) \u305d\u308c\u3063\u3066\u91cf\u3082\u591a\u304f\u306a\u308b\u3060\u308d\u3046\u3057\u305d\u3053\u3089\u8fba\u3092\u52b9\u7387\u7684\u306b\u3084\u308a\u306a\u304c\u3089\u9069\u78ba\u306b\u6291\u3048\u3066\u3044\u304d\u305f\u3044\u3063\u3066\u3044\u3046\u306e\u3067 >>\n[ True] \u305d\u306e\u4ed63(0.33) << (\u305d\u306e\u4ed610) \u305d\u306e\u4eee\u60f3\u306e\uff36\uff2d\u306e\u4eee\u60f3\u3092\u4f7f\u3063\u3066\u308b\u3093\u3067\u3059\u3051\u3069 >>\n[ True] \u305d\u306e\u4ed65(0.33) << (\u305d\u306e\u4ed69) \u30a2\u30a6\u30c8\u30d7\u30c3\u30c8\u306e\u78ba\u8a8d\u306e\u90e8\u7f72\u306a\u306e\u3067 >>\n[ True]   \u5177\u4f53(0.96) << (\u5177\u4f53) \u793e\u5185\u306e\u30dd\u30fc\u30bf\u30eb\u30b5\u30a4\u30c8\u304c\u3042\u308b\u306e\u3067\u305d\u3053\u306b\u9023\u7d61\u3068\u3057\u3066\u63b2\u8f09\u3055\u308c\u3066\u3044\u308b\u3082\u306e\u3092\u793e\u54e1\u304c\u8aad\u3080 >>\n[False]   \u5177\u4f53(0.81) << (\u305d\u306e\u4ed66) \u682a\u5f0f\u5e83\u5831\u306b\u95a2\u3059\u308b\u304a\u554f\u3044\u5408\u308f\u305b\u306f\uff13\u3092 >>\n[ True] \u305d\u306e\u4ed63(0.30) << (\u305d\u306e\u4ed62) \u9023\u308c\u3066\u304d\u305f\u30d9\u30f3\u30c0\u30fc\u3055\u3093\u304c\u3042\u308b\u3093\u3067\u3059 >>\n[ True] \u305d\u306e\u4ed66(0.39) << (\u305d\u306e\u4ed62) \u3088\u308a\u4fbf\u5229\u306b\u3088\u308a\u52b9\u7387\u7684\u306b\u3067\u304d\u308b\u5f62\u306b\u6301\u3063\u3066\u3044\u3051\u3070\u306a\u3063\u3066\u3044\u3046\u3053\u3068\u3067\u8003\u3048\u3066\u308b\u307f\u305f\u3044\u3067\u3059\u3051\u308c\u3069\u3082\u306d >>\n[ True]   \u5177\u4f53(0.98) << (\u5177\u4f53) Oracle\u306e\u30db\u30b9\u30c6\u30a3\u30f3\u30b0\u3092\u884c\u3046\u306e\u3067\u3042\u308c\u3070Azure\u3067\u5bcc\u58eb\u901a\u3067\u3068\u8003\u3048\u3066\u3044\u308b >>\n[ True] \u305d\u306e\u4ed65(0.85) << (\u305d\u306e\u4ed69) \u306a\u304b\u306a\u304b\u305d\u306e\uff29\uff34\u306b\u95a2\u3057\u3066\u306f\u3046\u3061\u306e\u4f1a\u793e >>\n[ True] \u305d\u306e\u4ed65(0.73) << (\u305d\u306e\u4ed69) \u8981\u306f\u81ea\u5206\u305f\u3061\u3067\u30bc\u30ed\u304b\u3089\u3064\u304f\u308b\u6c17\u306f\u306a\u3044\u306e\u3067 >>\n[ True] \u305d\u306e\u4ed66(0.95) << (\u305d\u306e\u4ed66) \u306f\u3044\u3069\u3046\u3082\u304a\u4e16\u8a71\u306b\u306a\u3063\u3066\u304a\u308a\u307e\u3059 >>\n[ True] \u305d\u306e\u4ed66(0.45) << (\u305d\u306e\u4ed62) \u4eca\u307e\u3067\u305d\u306e\uff2f\uff37\uff21\u4f7f\u3048\u3066\u3044\u305f\u3093\u3067\u3059\u3051\u3069 >>\n[ True]   \u5177\u4f53(0.73) << (\u5177\u4f53) \u6708\u984d\u3067\u30e9\u30a4\u30bb\u30f3\u30b9\u8cbb\u7528\u304c\u5341\u4e94\u30d1\u30fc\u30bb\u30f3\u30c8\u4e0a\u304c\u3063\u305f\u3068\u3044\u3046\u8aac\u660e\u3092\u53d7\u3051\u307e\u3057\u305f >>\n[ True] \u305d\u306e\u4ed68(0.30) << (\u305d\u306e\u4ed66) \u666e\u6bb5\u307b\u3068\u3093\u3069\u5916\u51fa\u306a\u3044\u3068\u3044\u3046\u5834\u5408\u306b >>\n[ True] \u305d\u306e\u4ed66(0.61) << (\u305d\u306e\u4ed61) \u4f55\u3060\u308d\u3046\u8aac\u660e\u306e\u6848\u5185\u6587\u306e\u3068\u304a\u308a\u3068\u3044\u3046\u3053\u3068\u3067\u3059\u3088\u306d >>\n[ True] \u305d\u306e\u4ed67(0.75) << (\u305d\u306e\u4ed67) \uff13\uff16\uff15\u306e\u307b\u3046\u3082\u9014\u4e2d\u307e\u3067\u8a2d\u5b9a\u3057\u3066\u308b\u3093\u3060\u3051\u3069 >>\n[ True]   \u5177\u4f53(0.92) << (\u5177\u4f53) BI\u30c4\u30fc\u30eb\u306f\u4eca\u306f\u4f7f\u3063\u3066\u304a\u3089\u305a\u81ea\u793e\u958b\u767a\u306e\u88fd\u54c1\u3092\u5229\u7528\u3057\u3066\u3044\u308b >>\n[ True] \u305d\u306e\u4ed63(0.55) << (\u305d\u306e\u4ed68) \u8cc7\u6599\u3068\u304b\u304c\u3042\u308c\u3070\u305d\u308c\u9001\u3063\u3066\u3044\u305f\u3060\u3051\u308c\u3070\u3053\u3061\u3089\u3067\u62dd\u898b\u3057\u3066 >>\n[ True] \u305d\u306e\u4ed68(0.90) << (\u305d\u306e\u4ed67) \u306a\u304b\u306a\u304b\u30aa\u30fc\u30d3\u30c3\u30af\u3055\u3093\u306e\u62c5\u3044\u3067\u308b\u3084\u3064\u3068\u304b\u3082\u30bb\u30df\u30ca\u30fc\u884c\u3063\u305f\u308a\u3055\u305b\u3066\u306f\u3044\u305f\u3060\u3044\u3066\u308b\u3093\u3067\u3059\u3051\u308c\u3069\u3082 >>\n[ True] \u305d\u306e\u4ed61(0.93) << (\u305d\u306e\u4ed62) \u3042\u3068\u5927\u5b66\u306e\u7814\u7a76\u6240\u3068\u304b\u306b\u3082\u3061\u3087\u3063\u3068\u305d\u3046\u3044\u3063\u305f\u8a71\u3092 >>\n[ True] \u305d\u306e\u4ed69(0.72) << (\u305d\u306e\u4ed64) \u591a\u5206\u79c1\u3068\u7d4c\u7406\u8ab2\u9577\u306e\u4e8c\u4eba\u3060\u3068\u601d\u3044\u307e\u3059\u3051\u3069 >>\n[ True] \u305d\u306e\u4ed69(0.61) << (\u305d\u306e\u4ed62) \u6a5f\u68b0\u3092\u30ea\u30d7\u30ec\u30fc\u30b9\uff08\uff1f\uff09\u3059\u308b\u306e\u304b\u3069\u3046\u3059\u308b\u306e\u304b\u3063\u3066\u3044\u3046\u306e\u3082\u542b\u3081\u3066\u3067\u3059\u306d >>\n[ True]   \u62bd\u8c61(0.43) << (\u62bd\u8c61) \u30d5\u30a1\u30a4\u30eb\u30b5\u30fc\u30d0\u30fc\u3082\u3042\u308b\u306b\u306f\u3042\u308b\u304c\u57fa\u672c\u306f\u4f7f\u3063\u3066\u3044\u306a\u3044 >>\n[False]   \u62bd\u8c61(0.38) << (\u305d\u306e\u4ed66) \u3042\u3068\u306f\u4f1a\u8a08\u306b\u95a2\u3057\u3066\u306f\u305d\u306e\u62c5\u5f53\u304c\u30ed\u30b0\u30a4\u30f3\u3068\u304b\u3059\u308b\u3058\u3083\u306a\u3044\u3067\u3059\u304b >>\n[ True] \u305d\u306e\u4ed64(0.95) << (\u305d\u306e\u4ed63) \u5f53\u7136\u3061\u3087\u3063\u3068\u30ea\u30d7\u30ec\u30fc\u30b9\u3057\u3061\u3083\u3046\u3068\u304b\u306a\u308a\u5927\u304d\u306a\u4e88\u7b97\uff0a\uff0a\uff0a >>\n[ True] \u305d\u306e\u4ed65(0.83) << (\u305d\u306e\u4ed63) \u305d\u3063\u3061\u306e\u6570\u5b57\u3070\u3063\u304b\u308a\u5927\u304d\u304f\u306a\u3063\u3061\u3083\u3063\u3066\u307e\u305f\u76ee\u7acb\u3063\u3061\u3083\u3046\u3093\u3067 >>\n[ True] \u305d\u306e\u4ed64(0.44) << (\u305d\u306e\u4ed69) \u30e9\u30a4\u30bb\u30f3\u30b9\u306e\u6570\u3092\u78ba\u8a8d\u3057\u305f\u3068\u3053\u308d >>\n[ True] \u305d\u306e\u4ed66(0.72) << (\u305d\u306e\u4ed63) \u305d\u308c\u305e\u308c\u5225\u3063\u3066\u3044\u3046\u304b\u9023\u643a\u305b\u305a\u306b\u3067\u3059\u306d >>\n[ True] \u305d\u306e\u4ed610(0.51) << (\u305d\u306e\u4ed61) \u6c17\u6301\u3061\u306f\u304b\u306a\u308a\u3082\u3046\u5927\u585a\u3055\u3093\u306b\u52d5\u3044\u3066\u306f\u3044\u307e\u3059\u3051\u3069 >>\n[ True] \u305d\u306e\u4ed63(0.80) << (\u305d\u306e\u4ed68) \u57fa\u672c\u7684\u306b\u306f\u96fb\u8a71\u5fdc\u5bfe\u306a\u3093\u3067\u3059\u3051\u3069 >>\n[ True] \u305d\u306e\u4ed64(0.72) << (\u305d\u306e\u4ed62) \u57fa\u672c\u7684\u306b\u306f\uff2f\uff22\uff29\uff23\u304c\u30e1\u30a4\u30f3\u3067\u3059\u306d >>\n[ True]   \u5177\u4f53(0.99) << (\u5177\u4f53) \u7533\u8acb\u306f11\u6708\u304f\u3089\u3044\u306b\u3084\u3063\u3061\u3083\u3044\u307e\u3059\u3051\u3069 >>\n[ True] \u305d\u306e\u4ed65(0.30) << (\u305d\u306e\u4ed66) \u3044\u3064\u307e\u3067\u305f\u3063\u3066\u3082\u4f7f\u3048\u306a\u3044\u3060\u3068\u304b >>\n[False]   \u62bd\u8c61(0.38) << (\u305d\u306e\u4ed62) \u305d\u3046\u3044\u3063\u305f\u3068\u3053\u308d\u306f\u5f53\u305f\u308a\u524d\u306e\u3088\u3046\u306b\u3084\u3063\u3071\u308a\u8003\u3048\u3066\u3044\u308b\u3068\u304b\u3067\u3059\u306d >>\n[ True] \u305d\u306e\u4ed68(0.90) << (\u305d\u306e\u4ed610) \u3082\u3046\u4ee3\u66ff\u306e\u30b5\u30fc\u30d0\u30fc\u3092\u3082\u3046\u5c0e\u5165\u3057\u3066\u3057\u307e\u304a\u3046\u3068\u3044\u3046\u3053\u3068\u3067 >>\n[ True] \u305d\u306e\u4ed61(0.62) << (\u305d\u306e\u4ed610) \u30e1\u30a4\u30f3\u306f\u3084\u3063\u3071\u30c7\u30fc\u30bf\u30bb\u30f3\u30bf\u30fc\u306b\u5165\u308c\u3066\u307e\u3059\u306d >>\n[ True] \u305d\u306e\u4ed66(0.58) << (\u305d\u306e\u4ed68) \u3060\u3063\u3066\u3042\u3068\u3042\u308c\u3067\u5165\u308c\u305f\u3068\u304d\u3042\u3068\u7af6\u5408\u3059\u308b\u306e\u304c\u306a\u3093\u304b\u30b7\u30b9\u30b3\u3067 >>\n[False]   \u5177\u4f53(0.85) << (\u305d\u306e\u4ed610) \u4eca\u307e\u3067\u306f\u60c5\u5831\u30b7\u30b9\u30c6\u30e0\u90e8\u9580\u304c\u30e1\u30a4\u30f3\u3060\u3063\u305f\u3068\u601d\u3046\u3093\u3067\u3059\u304c >>\n[ True] \u305d\u306e\u4ed63(0.36) << (\u305d\u306e\u4ed62) \u3060\u304b\u3089\u3061\u3087\u3063\u3068\u305d\u308c\u304c\u6d41\u7528\u3067\u304d\u308b\u306e\u304c\u3042\u3063\u305f\u3089\u8003\u3048\u308b\u3093\u3060\u3051\u3069 >>\n[ True] \u305d\u306e\u4ed610(0.53) << (\u305d\u306e\u4ed65) \u4e00\u53f0\u306e\u30b5\u30fc\u30d0\u30fc\u306e\u4e2d\u306b\u5165\u3063\u3066\u307e\u3059\u306d >>\n[ True] \u305d\u306e\u4ed67(0.84) << (\u305d\u306e\u4ed68) \uff2f\uff33\u306f\u5225\u306b\uff37\uff49\uff4e\uff44\uff4f\uff57\uff53\u306b\u9650\u3089\u306a\u304f\u3066\u3082\u3044\u3044\u3093\u3067\u3059\u3088\u306d >>\n[ True] \u305d\u306e\u4ed62(0.33) << (\u305d\u306e\u4ed65) \u30af\u30e9\u30a6\u30c9\u306b\u6301\u3063\u3066\u3063\u3066\u308b\u3063\u3066\u611f\u3058\u3067\u3059\u306d >>\n[ True]   \u62bd\u8c61(0.98) << (\u62bd\u8c61) \u305d\u3053\u306f\u6b63\u76f4\u3067\u304d\u3066\u3044\u308b\u3068\u306f\u601d\u3044\u307e\u3059\u3093\u3067 >>\n[ True] \u305d\u306e\u4ed610(0.53) << (\u305d\u306e\u4ed67) \u304a\u96fb\u8a71\u3044\u305f\u3060\u3044\u305f\u3068\u304d\u306b\u3082\u304a\u4f1d\u3048\u306f\u3057\u3066\u305f\u3093\u3067\u3059\u3051\u308c\u3069\u3082 >>\n[ True] \u305d\u306e\u4ed67(0.45) << (\u305d\u306e\u4ed66) \u666e\u901a\u958b\u767a\u3067\u3082\u3042\u308c\u3070\u306d\u3084\u3089\u3056\u308b\u3092\u5f97\u306a\u3044\u3067 >>\n[ True] \u305d\u306e\u4ed67(0.31) << (\u305d\u306e\u4ed67) \u4eca\u56de\u306e\u5165\u308c\u304b\u3048\u306f\u3082\u3046\u65b0\u30af\u30e9\u30a4\u30a2\u30f3\u30c8\u3067\u306f\u306a\u304f\u3066\u666e\u901a\u306e\u30d1\u30bd\u30b3\u30f3\u3067\u5165\u308c\u304b\u3048\u307e\u3059 >>\n[ True] \u305d\u306e\u4ed66(0.63) << (\u305d\u306e\u4ed63) \u5fa1\u793e\u306e\u307b\u3046\u304c\u3044\u308d\u3093\u306a\u4e16\u754c\u77e5\u3063\u3066\u3044\u308b\u3068\u601d\u3044\u307e\u3059\u306e\u3067 >>\n[ True] \u305d\u306e\u4ed68(0.37) << (\u305d\u306e\u4ed63) \u305d\u3053\u306e\u4e2d\u3067\u30d5\u30ed\u30a2\u3092\u5165\u308c\u308b\u5834\u6240\u3092\u3061\u3087\u3063\u3068\u3075\u3084\u3057\u3066\u3044\u304f\u304b\u3044\u304b\u306a\u3044\u304b\u3063\u3066\u3044\u3046\u3050\u3089\u3044\u3067\u3059\u306d >>\n[ True] \u305d\u306e\u4ed64(0.34) << (\u305d\u306e\u4ed62) \u591a\u5206\u8cfc\u5165\u4fa1\u683c\u306f\u78ba\u304b\u306b\u305d\u3093\u306a\u5909\u308f\u3093\u306a\u3044\u306e\u3082\u3057\u308c\u306a\u3044\u3093\u3067\u3059\u3051\u3069 >>\n[ True] \u305d\u306e\u4ed69(0.26) << (\u305d\u306e\u4ed61) \u305d\u306e\u95a2\u9023\u306e\u6a5f\u5668\u304c\u5165\u3063\u3066\u3044\u308b\u30e9\u30c3\u30af\uff08\uff1f\uff09\u3068\u3044\u3046\u306e\u304c\u4e00\u672c\u3042\u3063\u3066 >>\n[ True] \u305d\u306e\u4ed64(0.85) << (\u305d\u306e\u4ed69) \u3061\u3087\u3063\u3068\u5c0e\u5165\u6642\u306e\u8cbb\u7528\u306e\u4e88\u7b97\u306e\u554f\u984c\u3082\u3042\u308a\u307e\u3057\u3066 >>\n[ True] \u305d\u306e\u4ed67(0.81) << (\u305d\u306e\u4ed67) \u30d1\u30c3\u30b1\u30fc\u30b8\u30bd\u30d5\u30c8\u30a6\u30a7\u30a2\u3068\u304b\u3082\u4f7f\u3046\u3053\u3068\u304c\u51fa\u3066\u304f\u308b\u306e\u3067 >>\n[ True]   \u62bd\u8c61(0.98) << (\u62bd\u8c61) \u6b63\u76f4\u3061\u3083\u3093\u3068\u51fa\u6765\u3066\u3044\u308b\u304b\u3068\u3044\u308f\u308c\u308b\u3068\u51fa\u6765\u3066\u3044\u306a\u3044 >>\n[ True] \u305d\u306e\u4ed68(0.42) << (\u305d\u306e\u4ed66) \u305d\u306e\u30e9\u30a4\u30bb\u30f3\u30b9\u4e0d\u8db3\u3082\u88dc\u3046\u305f\u3081\u306b\u8cfc\u5165\u306f\u3057\u307e\u3057\u305f\u3051\u3069 >>\n[ True] \u305d\u306e\u4ed69(0.47) << (\u305d\u306e\u4ed61) \u7d50\u5c40\u30a2\u30af\u30bb\u30b9\u30b9\u30d4\u30fc\u30c9\u306e\u554f\u984c\u3068\u304b >>\n[ True] \u305d\u306e\u4ed68(0.28) << (\u305d\u306e\u4ed69) \u3063\u3066\u3044\u3046\u524d\u63d0\u3067\u4eca\u6301\u3063\u3066\u3044\u308b\u3082\u306e\u3067\u3067\u304d\u308b\u3053\u3068\u3092\u63a2\u3057\u3066\u3044\u308b >>\n[ True] \u305d\u306e\u4ed62(0.70) << (\u305d\u306e\u4ed61) \u30bf\u30ab\u30ca\u30b7\u3055\u3093\u306e\u307b\u3046\u3067\u3054\u7d39\u4ecb\u3057\u305f\u3044\u3068\u3044\u3063\u3066\u3044\u308b\u306e\u306f\u30af\u30e9\u30a6\u30c9\u306e\u3068\u3053\u308d >>\n[ True]   \u62bd\u8c61(0.95) << (\u62bd\u8c61) \u305d\u3053\u306f\u307e\u3060\u3061\u3087\u3063\u3068\u4f55\u3068\u3082\u3044\u306a\u3044\u3068\u3053\u308d\u3067\u306f\u3042\u308b\u3093\u3067 >>\n[False] \u305d\u306e\u4ed67(0.49) << (\u62bd\u8c61) \u307e\u3060\u3084\u308b\u304b\u3069\u3046\u304b\u3082\u3042\u308c\u306a\u3093\u3067\u3059\u3051\u3069\u306d >>\n[False] \u305d\u306e\u4ed66(0.62) << (\u62bd\u8c61) \u591a\u5206\u7121\u7406\u3060\u3068\u601d\u3044\u307e\u3059\u306d >>\n[ True] \u305d\u306e\u4ed64(0.26) << (\u305d\u306e\u4ed65) \u3044\u308d\u3093\u306a\u3068\u3053\u306b\u304b\u304b\u308f\u3063\u3061\u3083\u3046\u3068 >>\n[ True] \u305d\u306e\u4ed69(0.73) << (\u305d\u306e\u4ed62) \u4e00\u3064\u305d\u3046\u3044\u3046\u6a19\u7684\u578b\u8a13\u7df4\u3067\u3059\u3068\u304b >>\n[ True] \u305d\u306e\u4ed67(0.54) << (\u305d\u306e\u4ed62) \uff22\uff55\uff53\uff49\uff4e\uff45\uff53\uff53\u306f\u3067\u304d\u306a\u3044\u3063\u3066\u805e\u3044\u3066\u3044\u308b\u306e\u3067 >>\n[ True] \u305d\u306e\u4ed61(0.95) << (\u305d\u306e\u4ed64) \u5b9f\u969b\u305d\u3046\u3044\u3063\u305f\u4e88\u6e2c\u6570\u3068\u3044\u3063\u305f\u90e8\u5206 >>\n[ True] \u305d\u306e\u4ed610(0.92) << (\u305d\u306e\u4ed68) \u6b21\u306f\u52d8\u5b9a\u5949\u884c\u304c\u5165\u3063\u3066\u308b\u30b5\u30fc\u30d0\u30fc\u306b\u306a\u308b\u306e\u304b\u306a >>\n[ True] \u305d\u306e\u4ed66(0.37) << (\u305d\u306e\u4ed69) \u30a2\u30d7\u30ea\u30b1\u30fc\u30b7\u30e7\u30f3\u306e\u307b\u3046\u306f\u3084\u3063\u3071\u308a\u3064\u3044\u3066\u3044\u3051\u306a\u304f\u306a\u3063\u3066\u304f\u308b\u306e\u3067\u305d\u3046\u306a\u3063\u3066\u304f\u308b\u3068 >>\n[False]   \u62bd\u8c61(0.48) << (\u305d\u306e\u4ed63) \u4ed6\u696d\u8005\u3055\u3093\u306b\u306f\u306a\u304b\u306a\u304b\u305d\u306e\u30b7\u30b9\u30c6\u30e0 >>\n[False]   \u5177\u4f53(0.56) << (\u305d\u306e\u4ed62) \u4eca\u3084\u3063\u3066\u3044\u308b\u696d\u52d9\u306b\u3055\u3089\u306b\u4f55\u304b\u3092\u8ffd\u52a0\u3059\u308b\u3053\u3068\u306f\u3067\u304d\u306a\u3044 >>\n[ True]   \u5177\u4f53(0.99) << (\u5177\u4f53) 2017\u5e74\u306e\u304b\u306a\u308a\u5f8c\u534a\u306e\u65b9\u30671\u6708\u304f\u3089\u3044\u306b\u306a\u308b\u3068\u601d\u3046 >>\n[ True] \u305d\u306e\u4ed610(0.57) << (\u305d\u306e\u4ed62) \u5bcc\u5c71\u306b\u3082\u5c11\u3057\u306e\u30e1\u30f3\u30d0\u30fc\u6b8b\u3063\u3066\u308b\u3093\u3067\u3059\u3051\u3069\u3082 >>\n[ True] \u305d\u306e\u4ed66(0.37) << (\u305d\u306e\u4ed61) \u4fdd\u5b88\u304c\u5207\u308c\u3066\u3057\u3070\u3089\u304f\u306f\u306d\u305d\u306e\u307e\u307e >>\n[ True] \u305d\u306e\u4ed68(0.59) << (\u305d\u306e\u4ed61) \u30b0\u30ed\u30fc\uff08\uff1f\uff09\u3092\u4e2d\u5fc3\u3068\u3057\u3066\u3044\u308b\u3082\u306e\u306a\u306e\u304b\u3068\u304b\u3067\u3059\u306d >>\n[ True] \u305d\u306e\u4ed68(0.68) << (\u305d\u306e\u4ed69) \u30c6\u30ca\u30f3\u30c8\u306e\u63a5\u7d9a\u304c\u554f\u984c\u306a\u304f\u7c21\u5358\u306b\u3044\u3051\u308b\u3088\u3046\u3067\u3042\u308c\u3070 >>\n[ True] \u305d\u306e\u4ed69(0.72) << (\u305d\u306e\u4ed69) \u305d\u306e\u3042\u305f\u308a\u3082\u5168\u90e8\u542b\u3081\u3066\u3067\u3059\u304b\u306d >>\n[ True] \u305d\u306e\u4ed66(0.50) << (\u305d\u306e\u4ed69) \u3054\u8208\u5473\u306b\u3042\u3046\u3088\u3046\u306a\u3082\u306e\u304c\u3042\u308c\u3070\u3068\u601d\u3063\u3066\u304a\u308a\u307e\u3059\u306e\u3067 >>\n[ True] \u305d\u306e\u4ed64(0.78) << (\u305d\u306e\u4ed68) \u307e\u3060\u3061\u3087\u3063\u3068\u4e88\u7b97\u63aa\u7f6e\u3064\u3044\u3066\u306a\u3044\u306e\u3067 >>\n[ True] \u305d\u306e\u4ed61(0.39) << (\u305d\u306e\u4ed64) \u3061\u3087\u3063\u3068\u30e1\u30fc\u30eb\u3067\uff33\uff21\uff30\u3055\u3093\u306e\u3069\u3093\u306a\u3042\u308c\u304b\u3063\u3066\u3044\u3046\u306e\u306f >>\n[False] \u305d\u306e\u4ed66(0.38) << (\u62bd\u8c61) 13\u304b16\u306b\u306a\u308b\u306e\u304b\u3061\u3087\u3063\u3068\u305d\u3053\u3082\u307e\u3060\u304d\u307e\u3063\u3066\u306f\u306a\u3044\u3093\u3067\u3059 >>\n[ True] \u305d\u306e\u4ed68(0.30) << (\u305d\u306e\u4ed64) \u7d50\u5c40\u4eca\u30a4\u30f3\u30d7\u30c3\u30c8\u3055\u308c\u3066\u3044\u308b\u3082\u306e\u304c\u3042\u308c\u3070\u305d\u308c\u3092\u5229\u7528\u3059\u308b\u3057 >>\n[ True] \u305d\u306e\u4ed610(0.97) << (\u305d\u306e\u4ed66) \u3069\u3053\u3067\u3082\u3063\u3066\u8a00\u3046\u306e\u3082\u3042\u308c\u3067\u3059\u3051\u3069\u3082 >>\n[ True] \u305d\u306e\u4ed67(0.83) << (\u305d\u306e\u4ed62) \u3069\u3063\u304b\u3063\u3066\u8a00\u308f\u308c\u308b\u3068\u57fa\u5e79\u30b7\u30b9\u30c6\u30e0\u306e\u90e8\u5206\u3067\u3059\u304b\u306d >>\n[ True]   \u62bd\u8c61(0.95) << (\u62bd\u8c61) \u4eca\u3059\u3050\u3068\u3044\u3046\u308f\u3051\u3067\u306f\u306a\u3044\u3067\u3059\u3051\u3069 >>\n[ True] \u305d\u306e\u4ed66(0.61) << (\u305d\u306e\u4ed68) \uff0a\uff0a\uff0a\u30bb\u30ad\u30e5\u30ea\u30c6\u30a3\u306e\u8a71\u306b\u306a\u3063\u3061\u3083\u3046\u3093\u3067\u3059\u3051\u3069 >>\n[ True] \u305d\u306e\u4ed65(0.77) << (\u305d\u306e\u4ed61) \u5148\u6708\u3068\u304b\u3063\u3066\u3044\u3046\u306e\u3082\u3084\u3063\u3066\u307e\u3059\u3088 >>\n[ True] \u305d\u306e\u4ed61(0.32) << (\u305d\u306e\u4ed610) \u79c1\u4eca\u30c6\u30ec\u30ef\u30fc\u30af\u3068\u3044\u3046\u8a00\u8449\u3092\u4f7f\u3063\u3066 >>\n[False] \u305d\u306e\u4ed61(0.49) << (\u5177\u4f53) \u4f7f\u3044\u3084\u3059\u3055\u3068\u898b\u6613\u3055\u3068\u3044\u3063\u305f\u90e8\u5206\u304c\u9078\u5b9a\u30dd\u30a4\u30f3\u30c8\u306b\u306a\u308a\u307e\u3059 >>\n[ True] \u305d\u306e\u4ed67(0.38) << (\u305d\u306e\u4ed62) \uff25\uff32\uff30\u306f\u3053\u3053\u3067\u306f\u306a\u3044\u8a71\u3060\u3068\u601d\u3046\u3093\u3067\u3059\u3051\u3069 >>\n[ True] \u305d\u306e\u4ed610(0.34) << (\u305d\u306e\u4ed69) \u4f1a\u8a71\u3092\u3057\u3066\u3044\u308b\u3082\u306e\u3067\u305d\u308c\u3092\u3053\u3046 >>\n[ True] \u305d\u306e\u4ed610(0.46) << (\u305d\u306e\u4ed63) \u63d0\u51fa\u3057\u3066\u304f\u3060\u3055\u3044\u3063\u3066\u3044\u3046\u306e\u304c\u3042\u308a\u307e\u3057\u3066 >>\n"
                }
            ], 
            "source": "#\u30c6\u30b9\u30c8\u30c7\u30fc\u30bf\u3092\u4f7f\u3063\u3066\u30af\u30e9\u30b9\u3092\u8a55\u4fa1\u3059\u308b\nok=0\nng=0\n#for column_name, item in df_test.sample(30).iterrows():\n#for column_name, item in df_test.head().iterrows():\nprint ('START... ', datetime.now(JST).strftime(\"%Y/%m/%d %H:%M:%S\"))\nfor column_name, item in df_test.iterrows():\n    #target = item[0][0:13] #\u5148\u982d\u304b\u308915\u6587\u5b57\u5206\u53d6\u5f97\n    target = item[0] # item[0]:1\u5217\u76ee(\u30b5\u30f3\u30d7\u30eb\u6587)\u3092\u53d6\u5f97\u3059\u308b\n    classes = natural_language_classifier.classify(CID, target)\n    if classes[\"classes\"][0][\"class_name\"][:3] == item[1][:3]:\n        ok += 1\n    else:\n        ng += 1\n    print('[%5s] %4s(%0.2f)' % (classes[\"classes\"][0][\"class_name\"][:3] == item[1][:3], # item[1]:2\u5217\u76ee\u306e\u6700\u521d\u306e3\u6587\u5b57 (\u6559\u5e2b\u30c7\u30fc\u30bf)\n                                classes[\"classes\"][0][\"class_name\"], \n                                classes[\"classes\"][0][\"confidence\"]), end=\"\")\n    \n    print(' << (%s) %s >>' % (item[1], target))\n\nprint ('\u30c8\u30fc\u30bf\u30eb = %d, OK = %d, NG = %d' % ((ok+ng),ok,ng))\nprint ('\u6b63\u89e3\u7387 = %0.2f' % (ok/(ok+ng)))\nprint ('\u30a8\u30e9\u30fc\u7387 = %0.2f' % (ng/(ok+ng)))\nprint ('END... ', datetime.now(JST).strftime(\"%Y/%m/%d %H:%M:%S\"))"
        }, 
        {
            "source": "# (\u5fc5\u8981\u306a\u5834\u5408) \u30af\u30e9\u30b9\u306e\u524a\u9664", 
            "cell_type": "markdown", 
            "metadata": {}
        }, 
        {
            "execution_count": 16, 
            "cell_type": "code", 
            "metadata": {}, 
            "outputs": [
                {
                    "execution_count": 16, 
                    "metadata": {}, 
                    "data": {
                        "text/plain": "{'error': '\u30af\u30e9\u30b9\u3092\u4f5c\u6210\u3057\u3066\u304f\u3060\u3055\u3044'}"
                    }, 
                    "output_type": "execute_result"
                }
            ], 
            "source": "create_classifier('list')"
        }, 
        {
            "execution_count": 15, 
            "cell_type": "code", 
            "metadata": {}, 
            "outputs": [], 
            "source": "DELCID='e9fa7bx367-nlc-898' #\u4e0a\u8a18 classifier_id\u3092\u30bb\u30c3\u30c8\u3059\u308b\nnatural_language_classifier.delete_classifier(DELCID)"
        }, 
        {
            "source": "# \u30d0\u30c3\u30af\u30a2\u30c3\u30d7", 
            "cell_type": "markdown", 
            "metadata": {}
        }, 
        {
            "execution_count": null, 
            "cell_type": "code", 
            "metadata": {}, 
            "outputs": [], 
            "source": "#\u3053\u308c\u3082\u3046\u307e\u304f\u3044\u3063\u305f\u304c...\n\nfor column_name, item in df_data.iloc[:,0].sample(10).iteritems():\n    target = item[0:15] #\u5148\u982d\u304b\u308915\u6587\u5b57\u5206\u53d6\u5f97\n    classes = natural_language_classifier.classify(CLASS, target)\n    print('%4s(%f)' % (classes[\"classes\"][0][\"class_name\"], classes[\"classes\"][0][\"confidence\"]), end=\"\")\n    print(' << %s >>' % target)"
        }, 
        {
            "execution_count": null, 
            "cell_type": "code", 
            "metadata": {}, 
            "outputs": [], 
            "source": "#\u30c8\u30ec\u30fc\u30cb\u30f3\u30b0\u7528\u30c7\u30fc\u30bf\u30d5\u30ec\u30fc\u30e0\u306e\u4f5c\u6210\ndf_train = pd.DataFrame(X_train)\ndf_train['\u56de\u7b54\u30af\u30e9\u30b9'] = T_train\ndf_train.head()"
        }, 
        {
            "execution_count": null, 
            "cell_type": "code", 
            "metadata": {}, 
            "outputs": [], 
            "source": "#\u30c6\u30b9\u30c8\u7528\u30c7\u30fc\u30bf\u30d5\u30ec\u30fc\u30e0\u306e\u4f5c\u6210\ndf_test = pd.DataFrame(X_test)\ndf_test['\u56de\u7b54\u30af\u30e9\u30b9'] = T_test\ndf_test.head()"
        }, 
        {
            "source": "# \u30c7\u30fc\u30bf\u30d5\u30ec\u30fc\u30e0\u64cd\u4f5c", 
            "cell_type": "markdown", 
            "metadata": {}
        }, 
        {
            "execution_count": null, 
            "cell_type": "code", 
            "metadata": {}, 
            "outputs": [], 
            "source": "df_data.index"
        }, 
        {
            "execution_count": null, 
            "cell_type": "code", 
            "metadata": {}, 
            "outputs": [], 
            "source": "df_data.columns"
        }, 
        {
            "execution_count": null, 
            "cell_type": "code", 
            "metadata": {}, 
            "outputs": [], 
            "source": "df_data.shape"
        }, 
        {
            "execution_count": null, 
            "cell_type": "code", 
            "metadata": {}, 
            "outputs": [], 
            "source": "df_data.info()"
        }, 
        {
            "execution_count": null, 
            "cell_type": "code", 
            "metadata": {}, 
            "outputs": [], 
            "source": "df_data[\"\u30b5\u30f3\u30d7\u30eb\u6587\"].head()"
        }, 
        {
            "execution_count": null, 
            "cell_type": "code", 
            "metadata": {}, 
            "outputs": [], 
            "source": "df_data.loc[:,\"\u30b5\u30f3\u30d7\u30eb\u6587\"].head()"
        }, 
        {
            "execution_count": null, 
            "cell_type": "code", 
            "metadata": {}, 
            "outputs": [], 
            "source": "df_data.iloc[:,0].head()"
        }
    ], 
    "metadata": {
        "kernelspec": {
            "display_name": "Python 3.5", 
            "name": "python3", 
            "language": "python"
        }, 
        "language_info": {
            "mimetype": "text/x-python", 
            "nbconvert_exporter": "python", 
            "version": "3.5.4", 
            "name": "python", 
            "file_extension": ".py", 
            "pygments_lexer": "ipython3", 
            "codemirror_mode": {
                "version": 3, 
                "name": "ipython"
            }
        }
    }, 
    "nbformat": 4
}